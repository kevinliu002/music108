{
 "cells": [
  {
   "cell_type": "code",
   "execution_count": 1,
   "metadata": {},
   "outputs": [],
   "source": [
    "import numpy as np\n",
    "import pandas as pd"
   ]
  },
  {
   "cell_type": "code",
   "execution_count": 2,
   "metadata": {},
   "outputs": [],
   "source": [
    "experimentA = pd.read_csv(\"Survey_A.csv\")"
   ]
  },
  {
   "cell_type": "code",
   "execution_count": 3,
   "metadata": {},
   "outputs": [
    {
     "data": {
      "text/html": [
       "<div>\n",
       "<style scoped>\n",
       "    .dataframe tbody tr th:only-of-type {\n",
       "        vertical-align: middle;\n",
       "    }\n",
       "\n",
       "    .dataframe tbody tr th {\n",
       "        vertical-align: top;\n",
       "    }\n",
       "\n",
       "    .dataframe thead th {\n",
       "        text-align: right;\n",
       "    }\n",
       "</style>\n",
       "<table border=\"1\" class=\"dataframe\">\n",
       "  <thead>\n",
       "    <tr style=\"text-align: right;\">\n",
       "      <th></th>\n",
       "      <th>Gender</th>\n",
       "      <th>Age</th>\n",
       "      <th>Race</th>\n",
       "      <th>Perfect_Pitch</th>\n",
       "      <th>Listen_Music</th>\n",
       "      <th>Played_Instruement</th>\n",
       "      <th>Years</th>\n",
       "      <th>Control</th>\n",
       "      <th>Sequance1</th>\n",
       "      <th>Sequance2</th>\n",
       "      <th>Sequance3</th>\n",
       "      <th>Sequance4</th>\n",
       "      <th>Sequance5</th>\n",
       "      <th>Sequance6</th>\n",
       "    </tr>\n",
       "  </thead>\n",
       "  <tbody>\n",
       "    <tr>\n",
       "      <th>0</th>\n",
       "      <td>Male</td>\n",
       "      <td>20</td>\n",
       "      <td>Asian or Pacific Islander</td>\n",
       "      <td>No</td>\n",
       "      <td>Yes</td>\n",
       "      <td>Yes</td>\n",
       "      <td>5</td>\n",
       "      <td>Higher</td>\n",
       "      <td>Lower</td>\n",
       "      <td>Higher</td>\n",
       "      <td>Higher</td>\n",
       "      <td>Higher</td>\n",
       "      <td>Lower</td>\n",
       "      <td>Higher</td>\n",
       "    </tr>\n",
       "    <tr>\n",
       "      <th>1</th>\n",
       "      <td>Male</td>\n",
       "      <td>20</td>\n",
       "      <td>Asian or Pacific Islander</td>\n",
       "      <td>No</td>\n",
       "      <td>Yes</td>\n",
       "      <td>Yes</td>\n",
       "      <td>14</td>\n",
       "      <td>Higher</td>\n",
       "      <td>Higher</td>\n",
       "      <td>Lower</td>\n",
       "      <td>Higher</td>\n",
       "      <td>Higher</td>\n",
       "      <td>Higher</td>\n",
       "      <td>Higher</td>\n",
       "    </tr>\n",
       "    <tr>\n",
       "      <th>2</th>\n",
       "      <td>Female</td>\n",
       "      <td>20</td>\n",
       "      <td>Asian or Pacific Islander</td>\n",
       "      <td>No</td>\n",
       "      <td>Yes</td>\n",
       "      <td>Yes</td>\n",
       "      <td>15</td>\n",
       "      <td>Higher</td>\n",
       "      <td>Higher</td>\n",
       "      <td>Lower</td>\n",
       "      <td>Higher</td>\n",
       "      <td>Higher</td>\n",
       "      <td>Same</td>\n",
       "      <td>Lower</td>\n",
       "    </tr>\n",
       "    <tr>\n",
       "      <th>3</th>\n",
       "      <td>Male</td>\n",
       "      <td>20</td>\n",
       "      <td>White</td>\n",
       "      <td>No</td>\n",
       "      <td>Yes</td>\n",
       "      <td>No</td>\n",
       "      <td>0</td>\n",
       "      <td>Lower</td>\n",
       "      <td>Lower</td>\n",
       "      <td>Lower</td>\n",
       "      <td>Lower</td>\n",
       "      <td>Lower</td>\n",
       "      <td>Lower</td>\n",
       "      <td>Lower</td>\n",
       "    </tr>\n",
       "    <tr>\n",
       "      <th>4</th>\n",
       "      <td>Female</td>\n",
       "      <td>20</td>\n",
       "      <td>Asian or Pacific Islander</td>\n",
       "      <td>No</td>\n",
       "      <td>Yes</td>\n",
       "      <td>Yes</td>\n",
       "      <td>10</td>\n",
       "      <td>Higher</td>\n",
       "      <td>Lower</td>\n",
       "      <td>Lower</td>\n",
       "      <td>Higher</td>\n",
       "      <td>Higher</td>\n",
       "      <td>Lower</td>\n",
       "      <td>Lower</td>\n",
       "    </tr>\n",
       "  </tbody>\n",
       "</table>\n",
       "</div>"
      ],
      "text/plain": [
       "   Gender  Age                       Race Perfect_Pitch Listen_Music  \\\n",
       "0    Male   20  Asian or Pacific Islander            No          Yes   \n",
       "1    Male   20  Asian or Pacific Islander            No          Yes   \n",
       "2  Female   20  Asian or Pacific Islander            No          Yes   \n",
       "3    Male   20                      White            No          Yes   \n",
       "4  Female   20  Asian or Pacific Islander            No          Yes   \n",
       "\n",
       "  Played_Instruement  Years Control Sequance1 Sequance2 Sequance3 Sequance4  \\\n",
       "0                Yes      5  Higher     Lower    Higher    Higher    Higher   \n",
       "1                Yes     14  Higher    Higher     Lower    Higher    Higher   \n",
       "2                Yes     15  Higher    Higher     Lower    Higher    Higher   \n",
       "3                 No      0   Lower     Lower     Lower     Lower     Lower   \n",
       "4                Yes     10  Higher     Lower     Lower    Higher    Higher   \n",
       "\n",
       "  Sequance5 Sequance6  \n",
       "0     Lower    Higher  \n",
       "1    Higher    Higher  \n",
       "2      Same     Lower  \n",
       "3     Lower     Lower  \n",
       "4     Lower     Lower  "
      ]
     },
     "execution_count": 3,
     "metadata": {},
     "output_type": "execute_result"
    }
   ],
   "source": [
    "experimentA.head()"
   ]
  },
  {
   "cell_type": "markdown",
   "metadata": {},
   "source": [
    "# Part 1: Exploratory Data Analysis"
   ]
  },
  {
   "cell_type": "markdown",
   "metadata": {},
   "source": [
    "## Data Cleaning"
   ]
  },
  {
   "cell_type": "markdown",
   "metadata": {},
   "source": [
    "In this experiment, participants were given a two note sequance and asked to rate whether the second note was a higher or lower pitch than the first note. This sequance was D, D#, with the correct anwser being HIGHER as D# is higher than D. Participants that failed this inital test are excluded from the analysis."
   ]
  },
  {
   "cell_type": "code",
   "execution_count": 4,
   "metadata": {},
   "outputs": [],
   "source": [
    "experimentA = experimentA[experimentA['Control'] == \"Higher\"]\n"
   ]
  },
  {
   "cell_type": "markdown",
   "metadata": {},
   "source": [
    "For ease of future data analysis, the participant responses are marked as incorrect or correct."
   ]
  },
  {
   "cell_type": "code",
   "execution_count": 5,
   "metadata": {},
   "outputs": [
    {
     "data": {
      "text/html": [
       "<div>\n",
       "<style scoped>\n",
       "    .dataframe tbody tr th:only-of-type {\n",
       "        vertical-align: middle;\n",
       "    }\n",
       "\n",
       "    .dataframe tbody tr th {\n",
       "        vertical-align: top;\n",
       "    }\n",
       "\n",
       "    .dataframe thead th {\n",
       "        text-align: right;\n",
       "    }\n",
       "</style>\n",
       "<table border=\"1\" class=\"dataframe\">\n",
       "  <thead>\n",
       "    <tr style=\"text-align: right;\">\n",
       "      <th></th>\n",
       "      <th>Gender</th>\n",
       "      <th>Age</th>\n",
       "      <th>Race</th>\n",
       "      <th>Perfect_Pitch</th>\n",
       "      <th>Listen_Music</th>\n",
       "      <th>Played_Instruement</th>\n",
       "      <th>Years</th>\n",
       "      <th>Control</th>\n",
       "      <th>Sequance1</th>\n",
       "      <th>Sequance2</th>\n",
       "      <th>Sequance3</th>\n",
       "      <th>Sequance4</th>\n",
       "      <th>Sequance5</th>\n",
       "      <th>Sequance6</th>\n",
       "    </tr>\n",
       "  </thead>\n",
       "  <tbody>\n",
       "    <tr>\n",
       "      <th>0</th>\n",
       "      <td>Male</td>\n",
       "      <td>20</td>\n",
       "      <td>Asian or Pacific Islander</td>\n",
       "      <td>No</td>\n",
       "      <td>Yes</td>\n",
       "      <td>Yes</td>\n",
       "      <td>5</td>\n",
       "      <td>Higher</td>\n",
       "      <td>Incorrect</td>\n",
       "      <td>Incorrect</td>\n",
       "      <td>Correct</td>\n",
       "      <td>Correct</td>\n",
       "      <td>Incorrect</td>\n",
       "      <td>Incorrect</td>\n",
       "    </tr>\n",
       "    <tr>\n",
       "      <th>1</th>\n",
       "      <td>Male</td>\n",
       "      <td>20</td>\n",
       "      <td>Asian or Pacific Islander</td>\n",
       "      <td>No</td>\n",
       "      <td>Yes</td>\n",
       "      <td>Yes</td>\n",
       "      <td>14</td>\n",
       "      <td>Higher</td>\n",
       "      <td>Correct</td>\n",
       "      <td>Correct</td>\n",
       "      <td>Correct</td>\n",
       "      <td>Correct</td>\n",
       "      <td>Correct</td>\n",
       "      <td>Incorrect</td>\n",
       "    </tr>\n",
       "    <tr>\n",
       "      <th>2</th>\n",
       "      <td>Female</td>\n",
       "      <td>20</td>\n",
       "      <td>Asian or Pacific Islander</td>\n",
       "      <td>No</td>\n",
       "      <td>Yes</td>\n",
       "      <td>Yes</td>\n",
       "      <td>15</td>\n",
       "      <td>Higher</td>\n",
       "      <td>Correct</td>\n",
       "      <td>Correct</td>\n",
       "      <td>Correct</td>\n",
       "      <td>Correct</td>\n",
       "      <td>Incorrect</td>\n",
       "      <td>Correct</td>\n",
       "    </tr>\n",
       "    <tr>\n",
       "      <th>4</th>\n",
       "      <td>Female</td>\n",
       "      <td>20</td>\n",
       "      <td>Asian or Pacific Islander</td>\n",
       "      <td>No</td>\n",
       "      <td>Yes</td>\n",
       "      <td>Yes</td>\n",
       "      <td>10</td>\n",
       "      <td>Higher</td>\n",
       "      <td>Incorrect</td>\n",
       "      <td>Correct</td>\n",
       "      <td>Correct</td>\n",
       "      <td>Correct</td>\n",
       "      <td>Incorrect</td>\n",
       "      <td>Correct</td>\n",
       "    </tr>\n",
       "    <tr>\n",
       "      <th>5</th>\n",
       "      <td>Male</td>\n",
       "      <td>17</td>\n",
       "      <td>Asian or Pacific Islander</td>\n",
       "      <td>No</td>\n",
       "      <td>Yes</td>\n",
       "      <td>Yes</td>\n",
       "      <td>3</td>\n",
       "      <td>Higher</td>\n",
       "      <td>Incorrect</td>\n",
       "      <td>Correct</td>\n",
       "      <td>Incorrect</td>\n",
       "      <td>Correct</td>\n",
       "      <td>Correct</td>\n",
       "      <td>Correct</td>\n",
       "    </tr>\n",
       "  </tbody>\n",
       "</table>\n",
       "</div>"
      ],
      "text/plain": [
       "   Gender  Age                       Race Perfect_Pitch Listen_Music  \\\n",
       "0    Male   20  Asian or Pacific Islander            No          Yes   \n",
       "1    Male   20  Asian or Pacific Islander            No          Yes   \n",
       "2  Female   20  Asian or Pacific Islander            No          Yes   \n",
       "4  Female   20  Asian or Pacific Islander            No          Yes   \n",
       "5    Male   17  Asian or Pacific Islander            No          Yes   \n",
       "\n",
       "  Played_Instruement  Years Control  Sequance1  Sequance2  Sequance3  \\\n",
       "0                Yes      5  Higher  Incorrect  Incorrect    Correct   \n",
       "1                Yes     14  Higher    Correct    Correct    Correct   \n",
       "2                Yes     15  Higher    Correct    Correct    Correct   \n",
       "4                Yes     10  Higher  Incorrect    Correct    Correct   \n",
       "5                Yes      3  Higher  Incorrect    Correct  Incorrect   \n",
       "\n",
       "  Sequance4  Sequance5  Sequance6  \n",
       "0   Correct  Incorrect  Incorrect  \n",
       "1   Correct    Correct  Incorrect  \n",
       "2   Correct  Incorrect    Correct  \n",
       "4   Correct  Incorrect    Correct  \n",
       "5   Correct    Correct    Correct  "
      ]
     },
     "execution_count": 5,
     "metadata": {},
     "output_type": "execute_result"
    }
   ],
   "source": [
    "experimentA.loc[(experimentA.Sequance1 != 'Higher'),'Sequance1']='Incorrect'\n",
    "experimentA.loc[(experimentA.Sequance1 == 'Higher'),'Sequance1']='Correct'\n",
    "\n",
    "experimentA.loc[(experimentA.Sequance2 != 'Lower'),'Sequance2']='Incorrect'\n",
    "experimentA.loc[(experimentA.Sequance2 == 'Lower'),'Sequance2']='Correct'\n",
    "\n",
    "experimentA.loc[(experimentA.Sequance3 != 'Higher'),'Sequance3']='Incorrect'\n",
    "experimentA.loc[(experimentA.Sequance3 == 'Higher'),'Sequance3']='Correct'\n",
    "\n",
    "experimentA.loc[(experimentA.Sequance4 != 'Higher'),'Sequance4']='Incorrect'\n",
    "experimentA.loc[(experimentA.Sequance4 == 'Higher'),'Sequance4']='Correct'\n",
    "\n",
    "experimentA.loc[(experimentA.Sequance5 != 'Higher'),'Sequance5']='Incorrect'\n",
    "experimentA.loc[(experimentA.Sequance5 == 'Higher'),'Sequance5']='Correct'\n",
    "\n",
    "experimentA.loc[(experimentA.Sequance6 != 'Lower'),'Sequance6']='Incorrect'\n",
    "experimentA.loc[(experimentA.Sequance6 == 'Lower'),'Sequance6']='Correct'\n",
    "\n",
    "\n",
    "\n",
    "experimentA.head()"
   ]
  },
  {
   "cell_type": "markdown",
   "metadata": {},
   "source": [
    "## Looking at the Big Picture"
   ]
  },
  {
   "cell_type": "markdown",
   "metadata": {},
   "source": [
    "### Demographical Snapshot"
   ]
  },
  {
   "cell_type": "markdown",
   "metadata": {},
   "source": [
    "Participants are first split up based on demographical data in order to surface up any abnormalities that would warrant future individual investigation. This also gives us a good picture/snapshot of the underlying distribution we are looking at. \n",
    "\n",
    "Note: Of all participants'response collected, gender data that were entered were either male or female. A non-binary option was avalible for participant to select, albeit no participants in our sample selected that option."
   ]
  },
  {
   "cell_type": "markdown",
   "metadata": {},
   "source": [
    "#### Male"
   ]
  },
  {
   "cell_type": "code",
   "execution_count": 6,
   "metadata": {},
   "outputs": [],
   "source": [
    "experimentA_Male = experimentA[experimentA['Gender'] == \"Male\"]\n"
   ]
  },
  {
   "cell_type": "code",
   "execution_count": 7,
   "metadata": {},
   "outputs": [
    {
     "data": {
      "text/plain": [
       "9"
      ]
     },
     "execution_count": 7,
     "metadata": {},
     "output_type": "execute_result"
    }
   ],
   "source": [
    "#Number of Particpants\n",
    "experimentA_Male.shape[0]"
   ]
  },
  {
   "cell_type": "code",
   "execution_count": 8,
   "metadata": {},
   "outputs": [
    {
     "data": {
      "text/plain": [
       "Age    20.444444\n",
       "dtype: float64"
      ]
     },
     "execution_count": 8,
     "metadata": {},
     "output_type": "execute_result"
    }
   ],
   "source": [
    "#Average Age\n",
    "experimentA_Male[['Age']].mean()"
   ]
  },
  {
   "cell_type": "code",
   "execution_count": 9,
   "metadata": {},
   "outputs": [
    {
     "data": {
      "text/plain": [
       "Years    6.0\n",
       "dtype: float64"
      ]
     },
     "execution_count": 9,
     "metadata": {},
     "output_type": "execute_result"
    }
   ],
   "source": [
    "#Average Years of Musical Training\n",
    "experimentA_Male[['Years']].mean()"
   ]
  },
  {
   "cell_type": "markdown",
   "metadata": {},
   "source": [
    "#### Female"
   ]
  },
  {
   "cell_type": "code",
   "execution_count": 10,
   "metadata": {},
   "outputs": [],
   "source": [
    "experimentA_Female = experimentA[experimentA['Gender'] == \"Female\"]"
   ]
  },
  {
   "cell_type": "code",
   "execution_count": 11,
   "metadata": {},
   "outputs": [
    {
     "data": {
      "text/plain": [
       "6"
      ]
     },
     "execution_count": 11,
     "metadata": {},
     "output_type": "execute_result"
    }
   ],
   "source": [
    "#Number of Particpants\n",
    "experimentA_Female.shape[0]"
   ]
  },
  {
   "cell_type": "code",
   "execution_count": 12,
   "metadata": {},
   "outputs": [
    {
     "data": {
      "text/plain": [
       "Age    20.0\n",
       "dtype: float64"
      ]
     },
     "execution_count": 12,
     "metadata": {},
     "output_type": "execute_result"
    }
   ],
   "source": [
    "#Average Age\n",
    "experimentA_Female[['Age']].mean()"
   ]
  },
  {
   "cell_type": "code",
   "execution_count": 13,
   "metadata": {},
   "outputs": [
    {
     "data": {
      "text/plain": [
       "Years    7.333333\n",
       "dtype: float64"
      ]
     },
     "execution_count": 13,
     "metadata": {},
     "output_type": "execute_result"
    }
   ],
   "source": [
    "#Average Years of Musical Training\n",
    "experimentA_Female[['Years']].mean()"
   ]
  },
  {
   "cell_type": "markdown",
   "metadata": {},
   "source": [
    "### Music Background Snapshot"
   ]
  },
  {
   "cell_type": "markdown",
   "metadata": {},
   "source": [
    "A participant's music background is looked at. In the sample, nearly all participants reported listening to music regularly, and many have played an instrument."
   ]
  },
  {
   "cell_type": "markdown",
   "metadata": {},
   "source": [
    "#### Listened to Music?"
   ]
  },
  {
   "cell_type": "code",
   "execution_count": 14,
   "metadata": {},
   "outputs": [
    {
     "data": {
      "text/plain": [
       "0.9333333333333333"
      ]
     },
     "execution_count": 14,
     "metadata": {},
     "output_type": "execute_result"
    }
   ],
   "source": [
    "#Percentage of Overall Sample that Listened to Music Regularly\n",
    "experimentA[experimentA['Listen_Music'] == \"Yes\"].shape[0]/experimentA.shape[0]"
   ]
  },
  {
   "cell_type": "markdown",
   "metadata": {},
   "source": [
    "#### Played an instrument? FIX SPELLING"
   ]
  },
  {
   "cell_type": "code",
   "execution_count": 15,
   "metadata": {},
   "outputs": [
    {
     "data": {
      "text/plain": [
       "0.9333333333333333"
      ]
     },
     "execution_count": 15,
     "metadata": {},
     "output_type": "execute_result"
    }
   ],
   "source": [
    "#Percentage of Overall Sample that Listened to Music Regularly\n",
    "experimentA[experimentA['Played_Instruement'] == \"Yes\"].shape[0]/experimentA.shape[0]"
   ]
  },
  {
   "cell_type": "markdown",
   "metadata": {},
   "source": [
    "#### Average Years of Musical training (all samples)"
   ]
  },
  {
   "cell_type": "code",
   "execution_count": 16,
   "metadata": {},
   "outputs": [
    {
     "data": {
      "text/plain": [
       "Years    6.533333\n",
       "dtype: float64"
      ]
     },
     "execution_count": 16,
     "metadata": {},
     "output_type": "execute_result"
    }
   ],
   "source": [
    "experimentA[[\"Years\"]].mean()"
   ]
  },
  {
   "cell_type": "markdown",
   "metadata": {},
   "source": [
    "### Correctness Snapshot"
   ]
  },
  {
   "cell_type": "markdown",
   "metadata": {},
   "source": [
    "The proportion of correct versus incorrect responses are now looked at for each musical sequance that was played. \n",
    "A graph depicting these results are displayed."
   ]
  },
  {
   "cell_type": "markdown",
   "metadata": {},
   "source": [
    "#### Sequance 1 (Late): 27% correct\n",
    "C F D D# F F# C# F D C# (C# HIGHER than C)"
   ]
  },
  {
   "cell_type": "code",
   "execution_count": 17,
   "metadata": {},
   "outputs": [],
   "source": [
    "#Male\n",
    "experimentA_Male[experimentA_Male['Sequance1'] == \"Correct\"].shape[0]/experimentA_Male.shape[0]\n",
    "#Female\n",
    "experimentA_Female[experimentA_Female['Sequance1'] == \"Correct\"].shape[0]/experimentA_Female.shape[0]\n",
    "#Overall\n",
    "sequance1_all = experimentA[experimentA['Sequance1'] == \"Correct\"].shape[0]/experimentA.shape[0] * 100\n"
   ]
  },
  {
   "cell_type": "code",
   "execution_count": 18,
   "metadata": {},
   "outputs": [
    {
     "data": {
      "text/plain": [
       "26.666666666666668"
      ]
     },
     "execution_count": 18,
     "metadata": {},
     "output_type": "execute_result"
    }
   ],
   "source": [
    "sequance1_all"
   ]
  },
  {
   "cell_type": "markdown",
   "metadata": {},
   "source": [
    "#### Sequance 2 (Early): \n",
    "E F D D# F F# C# F D D# (D# LOWER than E)"
   ]
  },
  {
   "cell_type": "code",
   "execution_count": 19,
   "metadata": {},
   "outputs": [],
   "source": [
    "#Male\n",
    "experimentA_Male[experimentA_Male['Sequance2'] == \"Correct\"].shape[0]/experimentA_Male.shape[0]\n",
    "#Female\n",
    "experimentA_Female[experimentA_Female['Sequance2'] == \"Correct\"].shape[0]/experimentA_Female.shape[0]\n",
    "#Overall\n",
    "sequance2_all = experimentA[experimentA['Sequance2'] == \"Correct\"].shape[0]/experimentA.shape[0] * 100"
   ]
  },
  {
   "cell_type": "code",
   "execution_count": 20,
   "metadata": {},
   "outputs": [
    {
     "data": {
      "text/plain": [
       "93.33333333333333"
      ]
     },
     "execution_count": 20,
     "metadata": {},
     "output_type": "execute_result"
    }
   ],
   "source": [
    "sequance2_all"
   ]
  },
  {
   "cell_type": "markdown",
   "metadata": {},
   "source": [
    "#### Sequance 3 (Precise Metric Position):\n",
    "D F D D# F F# C# F D D# (D# HIGHER than D)    "
   ]
  },
  {
   "cell_type": "code",
   "execution_count": 21,
   "metadata": {},
   "outputs": [],
   "source": [
    "#Male\n",
    "experimentA_Male[experimentA_Male['Sequance3'] == \"Correct\"].shape[0]/experimentA_Male.shape[0]\n",
    "#Female\n",
    "experimentA_Female[experimentA_Female['Sequance3'] == \"Correct\"].shape[0]/experimentA_Female.shape[0]\n",
    "#Overall\n",
    "sequance3_all = experimentA[experimentA['Sequance3'] == \"Correct\"].shape[0]/experimentA.shape[0] * 100 "
   ]
  },
  {
   "cell_type": "code",
   "execution_count": 22,
   "metadata": {},
   "outputs": [
    {
     "data": {
      "text/plain": [
       "60.0"
      ]
     },
     "execution_count": 22,
     "metadata": {},
     "output_type": "execute_result"
    }
   ],
   "source": [
    "sequance3_all"
   ]
  },
  {
   "cell_type": "markdown",
   "metadata": {},
   "source": [
    "#### Sequance 4 (Very Early):\n",
    "E F D D# F F# C# F D F (F HIGHER than E) "
   ]
  },
  {
   "cell_type": "code",
   "execution_count": 23,
   "metadata": {},
   "outputs": [],
   "source": [
    "#Male\n",
    "experimentA_Male[experimentA_Male['Sequance4'] == \"Correct\"].shape[0]/experimentA_Male.shape[0]\n",
    "#Female\n",
    "experimentA_Female[experimentA_Female['Sequance4'] == \"Correct\"].shape[0]/experimentA_Female.shape[0]\n",
    "#Overall\n",
    "sequance4_all = experimentA[experimentA['Sequance4'] == \"Correct\"].shape[0]/experimentA.shape[0] *100 "
   ]
  },
  {
   "cell_type": "code",
   "execution_count": 24,
   "metadata": {},
   "outputs": [
    {
     "data": {
      "text/plain": [
       "66.66666666666666"
      ]
     },
     "execution_count": 24,
     "metadata": {},
     "output_type": "execute_result"
    }
   ],
   "source": [
    "sequance4_all"
   ]
  },
  {
   "cell_type": "markdown",
   "metadata": {},
   "source": [
    "#### Sequance 5 (Irregular Temporal Context):\n",
    "D C E B E E D F E C# D# (D# HIGHER than D)"
   ]
  },
  {
   "cell_type": "code",
   "execution_count": 25,
   "metadata": {},
   "outputs": [],
   "source": [
    "#Male\n",
    "experimentA_Male[experimentA_Male['Sequance5'] == \"Correct\"].shape[0]/experimentA_Male.shape[0]\n",
    "#Female\n",
    "experimentA_Female[experimentA_Female['Sequance5'] == \"Correct\"].shape[0]/experimentA_Female.shape[0]\n",
    "#Overall\n",
    "sequance5_all = experimentA[experimentA['Sequance5'] == \"Correct\"].shape[0]/experimentA.shape[0] *100 "
   ]
  },
  {
   "cell_type": "code",
   "execution_count": 26,
   "metadata": {},
   "outputs": [
    {
     "data": {
      "text/plain": [
       "33.33333333333333"
      ]
     },
     "execution_count": 26,
     "metadata": {},
     "output_type": "execute_result"
    }
   ],
   "source": [
    "sequance5_all"
   ]
  },
  {
   "cell_type": "markdown",
   "metadata": {},
   "source": [
    "#### Sequance 6 (Very Late):\n",
    "F F D D# F F# C# F D E (E LOWER than F) "
   ]
  },
  {
   "cell_type": "code",
   "execution_count": 27,
   "metadata": {},
   "outputs": [],
   "source": [
    "#Male\n",
    "experimentA_Male[experimentA_Male['Sequance6'] == \"Correct\"].shape[0]/experimentA_Male.shape[0]\n",
    "#Female\n",
    "experimentA_Female[experimentA_Female['Sequance6'] == \"Correct\"].shape[0]/experimentA_Female.shape[0]\n",
    "#Overall\n",
    "sequance6_all = experimentA[experimentA['Sequance6'] == \"Correct\"].shape[0]/experimentA.shape[0] *100"
   ]
  },
  {
   "cell_type": "code",
   "execution_count": 28,
   "metadata": {},
   "outputs": [
    {
     "data": {
      "text/plain": [
       "66.66666666666666"
      ]
     },
     "execution_count": 28,
     "metadata": {},
     "output_type": "execute_result"
    }
   ],
   "source": [
    "sequance6_all"
   ]
  },
  {
   "cell_type": "code",
   "execution_count": 29,
   "metadata": {},
   "outputs": [
    {
     "data": {
      "image/png": "[encoded data removed]",
      "text/plain": [
       "<Figure size 432x288 with 1 Axes>"
      ]
     },
     "metadata": {
      "needs_background": "light"
     },
     "output_type": "display_data"
    }
   ],
   "source": [
    "experimentA_all_bar = pd.DataFrame({'Timing':['Very Early', 'Early', 'On-Time','Late','Verly Late','Irregular'], 'Percentage Correct':[sequance4_all,sequance2_all,sequance3_all,sequance1_all,sequance6_all,sequance5_all]})\n",
    "ax = experimentA_all_bar.plot.bar(x='Timing', y='Percentage Correct', rot=0)\n",
    "\n"
   ]
  },
  {
   "cell_type": "markdown",
   "metadata": {},
   "source": [
    "# Part 2 Data Analysis:\n"
   ]
  },
  {
   "cell_type": "markdown",
   "metadata": {},
   "source": [
    "## Hypothesis (A/B) Testing:\n",
    "Null: The timing of the comparison tone (the last note) relatively to the distracting tones (notes in the middle)\n",
    "does not affect a participants performance in determining if the comparison tone is higher/lower/same in pitch\n",
    "than than the standard tone."
   ]
  },
  {
   "cell_type": "code",
   "execution_count": 30,
   "metadata": {},
   "outputs": [],
   "source": [
    "test_statistics = []\n",
    "sampling_array = np.append(experimentA[\"Sequance1\"].array,experimentA[\"Sequance2\"].array)\n",
    "sampling_array = np.append(sampling_array,experimentA[\"Sequance3\"].array)\n",
    "sampling_array = np.append(sampling_array,experimentA[\"Sequance4\"].array)\n",
    "sampling_array = np.append(sampling_array,experimentA[\"Sequance5\"].array)\n",
    "sampling_array = np.append(sampling_array,experimentA[\"Sequance6\"].array)\n",
    "\n",
    "\n"
   ]
  },
  {
   "cell_type": "code",
   "execution_count": 31,
   "metadata": {},
   "outputs": [],
   "source": [
    "def observerd_statistic_cacl(seq1,seq2=None,general=True):\n",
    "    if general == True:\n",
    "        sequance_test = experimentA[seq1].values\n",
    "        a = np.count_nonzero(sampling_array == \"Correct\")/len(sampling_array)\n",
    "        b = np.count_nonzero(sequance_test == \"Correct\")/len(sequance_test)\n",
    "        return b - a\n",
    "    else:\n",
    "        sequance_test_1 = experimentA[seq1].values\n",
    "        sequance_test_2 = experimentA[seq2].values\n",
    "        a = np.count_nonzero(sequance_test_1 ==\"Correct\")/len(sequance_test_1)\n",
    "        b = np.count_nonzero(sequance_test_2==\"Correct\")/len(sequance_test_2)\n",
    "        return b-a\n",
    "    "
   ]
  },
  {
   "cell_type": "code",
   "execution_count": 32,
   "metadata": {},
   "outputs": [],
   "source": [
    "def a_b_test(seq):\n",
    "    ##Calculates the test statistic between a sequance and general distribution.\n",
    "    sequance_test = experimentA[seq].sample(n=experimentA.shape[0],replace=True).values\n",
    "    general_test = np.random.choice(sampling_array,size=experimentA.shape[0],replace=True)\n",
    "\n",
    "    #Pecent correct in specific sequanfe distribution\n",
    "    unique, counts = np.unique(sequance_test, return_counts=True)\n",
    "    result = dict(zip(unique, counts))\n",
    "    try:\n",
    "        percent_correct_sequance = result['Correct']/len(sequance_test)\n",
    "    except:\n",
    "        percent_correct_sequance = 0\n",
    "\n",
    "    #Percent correct in overall distribution    \n",
    "    unique1, counts1 = np.unique(general_test, return_counts=True)\n",
    "    result1 = dict(zip(unique1, counts1))\n",
    "    try:\n",
    "        percent_correct_general = result1['Correct']/len(general_test)\n",
    "    except:\n",
    "        percent_correct_general = 0\n",
    "\n",
    "    \n",
    "    #Calculate test statistic (percent correct sequance - percent correct general distribution)\n",
    "    test_statistic = percent_correct_sequance-percent_correct_general\n",
    "   \n",
    "    return np.array([test_statistic])\n",
    "    \n"
   ]
  },
  {
   "cell_type": "code",
   "execution_count": 33,
   "metadata": {},
   "outputs": [],
   "source": [
    "def a_b_test_special(seq1,seq2):\n",
    "    ##Calculates the test statistic between two sequances.\n",
    "    ##Statistic is seq2_correct - seq1_correct\n",
    "    sequance1_test = experimentA[seq1].sample(n=experimentA.shape[0],replace=True).values\n",
    "    sequance2_test = experimentA[seq2].sample(n=experimentA.shape[0],replace=True).values\n",
    "\n",
    "    #Pecent correct in sequance1 distribution\n",
    "    unique, counts = np.unique(sequance1_test, return_counts=True)\n",
    "    result = dict(zip(unique, counts))\n",
    "    try:\n",
    "        percent_correct_sequance1 = result['Correct']/len(sequance1_test)\n",
    "    except:\n",
    "        percent_correct_sequance1 = 0\n",
    "        \n",
    "    \n",
    "    #Pecent correct in sequance2 distribution\n",
    "    unique, counts = np.unique(sequance2_test, return_counts=True)\n",
    "    result = dict(zip(unique, counts))\n",
    "    try:\n",
    "        percent_correct_sequance2 = result['Correct']/len(sequance2_test)\n",
    "    except:\n",
    "        percent_correct_sequance2 = 0\n",
    "        \n",
    "\n",
    "    #Calculate test statistic (percent correct sequance1 - percent correct sequance2)\n",
    "    test_statistic = percent_correct_sequance2-percent_correct_sequance1\n",
    "   \n",
    "    return np.array([test_statistic])"
   ]
  },
  {
   "cell_type": "markdown",
   "metadata": {},
   "source": [
    "#### Sequance 1: (Late)\n",
    "\n",
    "C F D D# F F# C# F D C# (C# HIGHER than C)\n"
   ]
  },
  {
   "cell_type": "code",
   "execution_count": 34,
   "metadata": {},
   "outputs": [
    {
     "name": "stdout",
     "output_type": "stream",
     "text": [
      "-0.31111111111111106\n"
     ]
    }
   ],
   "source": [
    "observed_statistic = observerd_statistic_cacl(\"Sequance1\")\n",
    "print(observed_statistic)\n",
    "test_statistics = np.array([])\n",
    "for i in range(0,1000):\n",
    "    test_statistics = np.concatenate((test_statistics,a_b_test(\"Sequance1\")))\n",
    "    \n",
    "p_value = np.count_nonzero(test_statistics <= observed_statistic)/1000\n"
   ]
  },
  {
   "cell_type": "code",
   "execution_count": 35,
   "metadata": {},
   "outputs": [
    {
     "name": "stdout",
     "output_type": "stream",
     "text": [
      "-0.31111111111111106\n"
     ]
    },
    {
     "data": {
      "text/plain": [
       "0.0"
      ]
     },
     "execution_count": 35,
     "metadata": {},
     "output_type": "execute_result"
    }
   ],
   "source": [
    "observed_statistic = observerd_statistic_cacl(\"Sequance1\",\"Sequance4\",general=True)\n",
    "print(observed_statistic)\n",
    "test_statistics = np.array([])\n",
    "for i in range(0,1000):\n",
    "    test_statistics = np.concatenate((test_statistics,a_b_test_special(\"Sequance1\",\"Sequance4\")))\n",
    "    \n",
    "p_value = np.count_nonzero(test_statistics <= observed_statistic)/1000\n",
    "p_value"
   ]
  },
  {
   "cell_type": "markdown",
   "metadata": {},
   "source": [
    "#### Sequance 2 (Early):\n",
    "\n",
    "E F D D# F F# C# F D D# (D# LOWER than E)\n"
   ]
  },
  {
   "cell_type": "code",
   "execution_count": 36,
   "metadata": {},
   "outputs": [
    {
     "name": "stdout",
     "output_type": "stream",
     "text": [
      "0.3555555555555556\n"
     ]
    },
    {
     "data": {
      "text/plain": [
       "0.53"
      ]
     },
     "execution_count": 36,
     "metadata": {},
     "output_type": "execute_result"
    }
   ],
   "source": [
    "observed_statistic = observerd_statistic_cacl(\"Sequance2\")\n",
    "print(observed_statistic)\n",
    "test_statistics = np.array([])\n",
    "for i in range(0,1000):\n",
    "    test_statistics = np.concatenate((test_statistics,a_b_test(\"Sequance2\")))\n",
    "    \n",
    "p_value = np.count_nonzero(test_statistics <= observed_statistic)/1000\n",
    "p_value"
   ]
  },
  {
   "cell_type": "markdown",
   "metadata": {},
   "source": [
    "#### Sequance 3 (Precise Metric Position):\n",
    "\n",
    "D F D D# F F# C# F D D# (D# HIGHER than D)\n"
   ]
  },
  {
   "cell_type": "code",
   "execution_count": 37,
   "metadata": {},
   "outputs": [
    {
     "name": "stdout",
     "output_type": "stream",
     "text": [
      "0.022222222222222254\n"
     ]
    },
    {
     "data": {
      "text/plain": [
       "0.546"
      ]
     },
     "execution_count": 37,
     "metadata": {},
     "output_type": "execute_result"
    }
   ],
   "source": [
    "observed_statistic = observerd_statistic_cacl(\"Sequance3\")\n",
    "print(observed_statistic)\n",
    "test_statistics = np.array([])\n",
    "for i in range(0,1000):\n",
    "    test_statistics = np.concatenate((test_statistics,a_b_test(\"Sequance3\")))\n",
    "    \n",
    "p_value = np.count_nonzero(test_statistics <= observed_statistic)/1000\n",
    "p_value"
   ]
  },
  {
   "cell_type": "markdown",
   "metadata": {},
   "source": [
    "#### Sequance 4 (Very Early):\n",
    "\n",
    "E F D D# F F# C# F D F (F HIGHER than E)\n"
   ]
  },
  {
   "cell_type": "code",
   "execution_count": 38,
   "metadata": {},
   "outputs": [
    {
     "name": "stdout",
     "output_type": "stream",
     "text": [
      "0.0888888888888889\n"
     ]
    },
    {
     "data": {
      "text/plain": [
       "0.534"
      ]
     },
     "execution_count": 38,
     "metadata": {},
     "output_type": "execute_result"
    }
   ],
   "source": [
    "observed_statistic = observerd_statistic_cacl(\"Sequance4\")\n",
    "print(observed_statistic)\n",
    "test_statistics = np.array([])\n",
    "for i in range(0,1000):\n",
    "    test_statistics = np.concatenate((test_statistics,a_b_test(\"Sequance4\")))\n",
    "    \n",
    "p_value = np.count_nonzero(test_statistics <= observed_statistic)/1000\n",
    "p_value"
   ]
  },
  {
   "cell_type": "markdown",
   "metadata": {},
   "source": [
    "#### Sequance 5 (Irregular Temporal Context):\n",
    "\n",
    "D C E B E E D F E C# D# (D# HIGHER than D)\n"
   ]
  },
  {
   "cell_type": "code",
   "execution_count": 39,
   "metadata": {},
   "outputs": [
    {
     "name": "stdout",
     "output_type": "stream",
     "text": [
      "-0.2444444444444444\n"
     ]
    },
    {
     "data": {
      "text/plain": [
       "0.54"
      ]
     },
     "execution_count": 39,
     "metadata": {},
     "output_type": "execute_result"
    }
   ],
   "source": [
    "observed_statistic = observerd_statistic_cacl(\"Sequance5\")\n",
    "print(observed_statistic)\n",
    "test_statistics = np.array([])\n",
    "for i in range(0,1000):\n",
    "    test_statistics = np.concatenate((test_statistics,a_b_test(\"Sequance5\")))\n",
    "    \n",
    "p_value = np.count_nonzero(test_statistics <= observed_statistic)/1000\n",
    "p_value"
   ]
  },
  {
   "cell_type": "code",
   "execution_count": 40,
   "metadata": {},
   "outputs": [
    {
     "name": "stdout",
     "output_type": "stream",
     "text": [
      "-0.2444444444444444\n"
     ]
    },
    {
     "data": {
      "text/plain": [
       "0.006"
      ]
     },
     "execution_count": 40,
     "metadata": {},
     "output_type": "execute_result"
    }
   ],
   "source": [
    "observed_statistic = observerd_statistic_cacl(\"Sequance5\",\"Sequance3\",general=True)\n",
    "print(observed_statistic)\n",
    "test_statistics = np.array([])\n",
    "for i in range(0,1000):\n",
    "    test_statistics = np.concatenate((test_statistics,a_b_test_special(\"Sequance5\",\"Sequance3\")))\n",
    "    \n",
    "p_value = np.count_nonzero(test_statistics <= observed_statistic)/1000\n",
    "p_value"
   ]
  },
  {
   "cell_type": "markdown",
   "metadata": {},
   "source": [
    "### Sequance 6 (Very Late):¶\n",
    "\n",
    "F F D D# F F# C# F D E (E LOWER than F)\n"
   ]
  },
  {
   "cell_type": "code",
   "execution_count": 41,
   "metadata": {},
   "outputs": [
    {
     "name": "stdout",
     "output_type": "stream",
     "text": [
      "0.0888888888888889\n"
     ]
    },
    {
     "data": {
      "text/plain": [
       "0.546"
      ]
     },
     "execution_count": 41,
     "metadata": {},
     "output_type": "execute_result"
    }
   ],
   "source": [
    "observed_statistic = observerd_statistic_cacl(\"Sequance6\")\n",
    "print(observed_statistic)\n",
    "test_statistics = np.array([])\n",
    "for i in range(0,1000):\n",
    "    test_statistics = np.concatenate((test_statistics,a_b_test(\"Sequance6\")))\n",
    "    \n",
    "p_value = np.count_nonzero(test_statistics <= observed_statistic)/1000\n",
    "p_value"
   ]
  },
  {
   "cell_type": "code",
   "execution_count": 42,
   "metadata": {},
   "outputs": [
    {
     "name": "stdout",
     "output_type": "stream",
     "text": [
      "0.0888888888888889\n"
     ]
    },
    {
     "data": {
      "text/plain": [
       "0.819"
      ]
     },
     "execution_count": 42,
     "metadata": {},
     "output_type": "execute_result"
    }
   ],
   "source": [
    "observed_statistic = observerd_statistic_cacl(\"Sequance6\",\"Sequance3\",general=True)\n",
    "print(observed_statistic)\n",
    "test_statistics = np.array([])\n",
    "for i in range(0,1000):\n",
    "    test_statistics = np.concatenate((test_statistics,a_b_test_special(\"Sequance6\",\"Sequance3\")))\n",
    "    \n",
    "p_value = np.count_nonzero(test_statistics <= observed_statistic)/1000\n",
    "p_value"
   ]
  },
  {
   "cell_type": "code",
   "execution_count": null,
   "metadata": {},
   "outputs": [],
   "source": []
  }
 ],
 "metadata": {
  "kernelspec": {
   "display_name": "Python 3",
   "language": "python",
   "name": "python3"
  },
  "language_info": {
   "codemirror_mode": {
    "name": "ipython",
    "version": 3
   },
   "file_extension": ".py",
   "mimetype": "text/x-python",
   "name": "python",
   "nbconvert_exporter": "python",
   "pygments_lexer": "ipython3",
   "version": "3.8.3"
  }
 },
 "nbformat": 4,
 "nbformat_minor": 4
}
