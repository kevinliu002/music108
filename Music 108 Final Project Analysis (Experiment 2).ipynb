{
 "cells": [
  {
   "cell_type": "code",
   "execution_count": 1,
   "metadata": {},
   "outputs": [],
   "source": [
    "import numpy as np\n",
    "import pandas as pd"
   ]
  },
  {
   "cell_type": "code",
   "execution_count": 2,
   "metadata": {},
   "outputs": [],
   "source": [
    "experimentB = pd.read_csv(\"Survey_B.csv\")"
   ]
  },
  {
   "cell_type": "code",
   "execution_count": 3,
   "metadata": {},
   "outputs": [
    {
     "data": {
      "text/html": [
       "<div>\n",
       "<style scoped>\n",
       "    .dataframe tbody tr th:only-of-type {\n",
       "        vertical-align: middle;\n",
       "    }\n",
       "\n",
       "    .dataframe tbody tr th {\n",
       "        vertical-align: top;\n",
       "    }\n",
       "\n",
       "    .dataframe thead th {\n",
       "        text-align: right;\n",
       "    }\n",
       "</style>\n",
       "<table border=\"1\" class=\"dataframe\">\n",
       "  <thead>\n",
       "    <tr style=\"text-align: right;\">\n",
       "      <th></th>\n",
       "      <th>Gender</th>\n",
       "      <th>Age</th>\n",
       "      <th>Perfect_Pitch</th>\n",
       "      <th>Listen_Music</th>\n",
       "      <th>Played_Instruement</th>\n",
       "      <th>Years</th>\n",
       "      <th>Control</th>\n",
       "      <th>Sequence1</th>\n",
       "      <th>Sequence1_Timing</th>\n",
       "      <th>Sequence2</th>\n",
       "      <th>Sequence2_Timing</th>\n",
       "      <th>Sequence3</th>\n",
       "      <th>Sequence3_Timing</th>\n",
       "      <th>Sequence4</th>\n",
       "      <th>Sequence4_Timing</th>\n",
       "      <th>Easiest</th>\n",
       "    </tr>\n",
       "  </thead>\n",
       "  <tbody>\n",
       "    <tr>\n",
       "      <th>0</th>\n",
       "      <td>Male</td>\n",
       "      <td>20</td>\n",
       "      <td>No</td>\n",
       "      <td>Yes</td>\n",
       "      <td>Yes</td>\n",
       "      <td>5</td>\n",
       "      <td>Higher</td>\n",
       "      <td>Same</td>\n",
       "      <td>Earlier</td>\n",
       "      <td>Lower</td>\n",
       "      <td>Expected</td>\n",
       "      <td>Higher</td>\n",
       "      <td>Later</td>\n",
       "      <td>Lower</td>\n",
       "      <td>Later</td>\n",
       "      <td>Question 1</td>\n",
       "    </tr>\n",
       "    <tr>\n",
       "      <th>1</th>\n",
       "      <td>Female</td>\n",
       "      <td>20</td>\n",
       "      <td>No</td>\n",
       "      <td>Yes</td>\n",
       "      <td>No</td>\n",
       "      <td>0</td>\n",
       "      <td>Higher</td>\n",
       "      <td>Higher</td>\n",
       "      <td>Later</td>\n",
       "      <td>Lower</td>\n",
       "      <td>Later</td>\n",
       "      <td>Higher</td>\n",
       "      <td>Expected</td>\n",
       "      <td>Higher</td>\n",
       "      <td>Later</td>\n",
       "      <td>Question 1</td>\n",
       "    </tr>\n",
       "    <tr>\n",
       "      <th>2</th>\n",
       "      <td>Male</td>\n",
       "      <td>20</td>\n",
       "      <td>No</td>\n",
       "      <td>Yes</td>\n",
       "      <td>Yes</td>\n",
       "      <td>8</td>\n",
       "      <td>Higher</td>\n",
       "      <td>Higher</td>\n",
       "      <td>Expected</td>\n",
       "      <td>Lower</td>\n",
       "      <td>Earlier</td>\n",
       "      <td>Higher</td>\n",
       "      <td>Earlier</td>\n",
       "      <td>Higher</td>\n",
       "      <td>Expected</td>\n",
       "      <td>Question 4</td>\n",
       "    </tr>\n",
       "    <tr>\n",
       "      <th>3</th>\n",
       "      <td>Male</td>\n",
       "      <td>20</td>\n",
       "      <td>No</td>\n",
       "      <td>Yes</td>\n",
       "      <td>Yes</td>\n",
       "      <td>8</td>\n",
       "      <td>Lower</td>\n",
       "      <td>Higher</td>\n",
       "      <td>Earlier</td>\n",
       "      <td>Same</td>\n",
       "      <td>Earlier</td>\n",
       "      <td>Lower</td>\n",
       "      <td>Earlier</td>\n",
       "      <td>Higher</td>\n",
       "      <td>Expected</td>\n",
       "      <td>Question 1</td>\n",
       "    </tr>\n",
       "    <tr>\n",
       "      <th>4</th>\n",
       "      <td>Male</td>\n",
       "      <td>18</td>\n",
       "      <td>No</td>\n",
       "      <td>Yes</td>\n",
       "      <td>Yes</td>\n",
       "      <td>4</td>\n",
       "      <td>Higher</td>\n",
       "      <td>Higher</td>\n",
       "      <td>Earlier</td>\n",
       "      <td>Higher</td>\n",
       "      <td>Later</td>\n",
       "      <td>Same</td>\n",
       "      <td>Earlier</td>\n",
       "      <td>Higher</td>\n",
       "      <td>Expected</td>\n",
       "      <td>Question 1</td>\n",
       "    </tr>\n",
       "  </tbody>\n",
       "</table>\n",
       "</div>"
      ],
      "text/plain": [
       "   Gender  Age Perfect_Pitch Listen_Music Played_Instruement  Years Control  \\\n",
       "0    Male   20            No          Yes                Yes      5  Higher   \n",
       "1  Female   20            No          Yes                 No      0  Higher   \n",
       "2    Male   20            No          Yes                Yes      8  Higher   \n",
       "3    Male   20            No          Yes                Yes      8   Lower   \n",
       "4    Male   18            No          Yes                Yes      4  Higher   \n",
       "\n",
       "  Sequence1 Sequence1_Timing Sequence2 Sequence2_Timing Sequence3  \\\n",
       "0      Same          Earlier     Lower         Expected    Higher   \n",
       "1    Higher            Later     Lower            Later    Higher   \n",
       "2    Higher         Expected     Lower          Earlier    Higher   \n",
       "3    Higher          Earlier      Same          Earlier     Lower   \n",
       "4    Higher          Earlier    Higher            Later      Same   \n",
       "\n",
       "  Sequence3_Timing Sequence4 Sequence4_Timing     Easiest  \n",
       "0            Later     Lower            Later  Question 1  \n",
       "1         Expected    Higher            Later  Question 1  \n",
       "2          Earlier    Higher         Expected  Question 4  \n",
       "3          Earlier    Higher         Expected  Question 1  \n",
       "4          Earlier    Higher         Expected  Question 1  "
      ]
     },
     "execution_count": 3,
     "metadata": {},
     "output_type": "execute_result"
    }
   ],
   "source": [
    "experimentB.head()"
   ]
  },
  {
   "cell_type": "markdown",
   "metadata": {},
   "source": [
    "# Part 1: Exploratory Data Analysis"
   ]
  },
  {
   "cell_type": "markdown",
   "metadata": {},
   "source": [
    "## Data Cleaning"
   ]
  },
  {
   "cell_type": "markdown",
   "metadata": {},
   "source": [
    "In this experiment, participants were given a two note sequance and asked to rate whether the second note was a higher or lower pitch than the first note. This sequance was D, D#, with the correct anwser being HIGHER as D# is higher than D. Participants that failed this inital test are excluded from the analysis."
   ]
  },
  {
   "cell_type": "code",
   "execution_count": 4,
   "metadata": {},
   "outputs": [
    {
     "data": {
      "text/html": [
       "<div>\n",
       "<style scoped>\n",
       "    .dataframe tbody tr th:only-of-type {\n",
       "        vertical-align: middle;\n",
       "    }\n",
       "\n",
       "    .dataframe tbody tr th {\n",
       "        vertical-align: top;\n",
       "    }\n",
       "\n",
       "    .dataframe thead th {\n",
       "        text-align: right;\n",
       "    }\n",
       "</style>\n",
       "<table border=\"1\" class=\"dataframe\">\n",
       "  <thead>\n",
       "    <tr style=\"text-align: right;\">\n",
       "      <th></th>\n",
       "      <th>Gender</th>\n",
       "      <th>Age</th>\n",
       "      <th>Perfect_Pitch</th>\n",
       "      <th>Listen_Music</th>\n",
       "      <th>Played_Instruement</th>\n",
       "      <th>Years</th>\n",
       "      <th>Control</th>\n",
       "      <th>Sequence1</th>\n",
       "      <th>Sequence1_Timing</th>\n",
       "      <th>Sequence2</th>\n",
       "      <th>Sequence2_Timing</th>\n",
       "      <th>Sequence3</th>\n",
       "      <th>Sequence3_Timing</th>\n",
       "      <th>Sequence4</th>\n",
       "      <th>Sequence4_Timing</th>\n",
       "      <th>Easiest</th>\n",
       "    </tr>\n",
       "  </thead>\n",
       "  <tbody>\n",
       "    <tr>\n",
       "      <th>0</th>\n",
       "      <td>Male</td>\n",
       "      <td>20</td>\n",
       "      <td>No</td>\n",
       "      <td>Yes</td>\n",
       "      <td>Yes</td>\n",
       "      <td>5</td>\n",
       "      <td>Higher</td>\n",
       "      <td>Same</td>\n",
       "      <td>Earlier</td>\n",
       "      <td>Lower</td>\n",
       "      <td>Expected</td>\n",
       "      <td>Higher</td>\n",
       "      <td>Later</td>\n",
       "      <td>Lower</td>\n",
       "      <td>Later</td>\n",
       "      <td>Question 1</td>\n",
       "    </tr>\n",
       "    <tr>\n",
       "      <th>1</th>\n",
       "      <td>Female</td>\n",
       "      <td>20</td>\n",
       "      <td>No</td>\n",
       "      <td>Yes</td>\n",
       "      <td>No</td>\n",
       "      <td>0</td>\n",
       "      <td>Higher</td>\n",
       "      <td>Higher</td>\n",
       "      <td>Later</td>\n",
       "      <td>Lower</td>\n",
       "      <td>Later</td>\n",
       "      <td>Higher</td>\n",
       "      <td>Expected</td>\n",
       "      <td>Higher</td>\n",
       "      <td>Later</td>\n",
       "      <td>Question 1</td>\n",
       "    </tr>\n",
       "    <tr>\n",
       "      <th>2</th>\n",
       "      <td>Male</td>\n",
       "      <td>20</td>\n",
       "      <td>No</td>\n",
       "      <td>Yes</td>\n",
       "      <td>Yes</td>\n",
       "      <td>8</td>\n",
       "      <td>Higher</td>\n",
       "      <td>Higher</td>\n",
       "      <td>Expected</td>\n",
       "      <td>Lower</td>\n",
       "      <td>Earlier</td>\n",
       "      <td>Higher</td>\n",
       "      <td>Earlier</td>\n",
       "      <td>Higher</td>\n",
       "      <td>Expected</td>\n",
       "      <td>Question 4</td>\n",
       "    </tr>\n",
       "    <tr>\n",
       "      <th>4</th>\n",
       "      <td>Male</td>\n",
       "      <td>18</td>\n",
       "      <td>No</td>\n",
       "      <td>Yes</td>\n",
       "      <td>Yes</td>\n",
       "      <td>4</td>\n",
       "      <td>Higher</td>\n",
       "      <td>Higher</td>\n",
       "      <td>Earlier</td>\n",
       "      <td>Higher</td>\n",
       "      <td>Later</td>\n",
       "      <td>Same</td>\n",
       "      <td>Earlier</td>\n",
       "      <td>Higher</td>\n",
       "      <td>Expected</td>\n",
       "      <td>Question 1</td>\n",
       "    </tr>\n",
       "    <tr>\n",
       "      <th>5</th>\n",
       "      <td>Female</td>\n",
       "      <td>20</td>\n",
       "      <td>No</td>\n",
       "      <td>Yes</td>\n",
       "      <td>Yes</td>\n",
       "      <td>3</td>\n",
       "      <td>Higher</td>\n",
       "      <td>Higher</td>\n",
       "      <td>Expected</td>\n",
       "      <td>Lower</td>\n",
       "      <td>Earlier</td>\n",
       "      <td>Higher</td>\n",
       "      <td>Expected</td>\n",
       "      <td>Higher</td>\n",
       "      <td>Expected</td>\n",
       "      <td>Question 1</td>\n",
       "    </tr>\n",
       "    <tr>\n",
       "      <th>6</th>\n",
       "      <td>Male</td>\n",
       "      <td>20</td>\n",
       "      <td>No</td>\n",
       "      <td>Yes</td>\n",
       "      <td>Yes</td>\n",
       "      <td>16</td>\n",
       "      <td>Higher</td>\n",
       "      <td>Higher</td>\n",
       "      <td>Earlier</td>\n",
       "      <td>Lower</td>\n",
       "      <td>Later</td>\n",
       "      <td>Higher</td>\n",
       "      <td>Earlier</td>\n",
       "      <td>Higher</td>\n",
       "      <td>Earlier</td>\n",
       "      <td>Question 4</td>\n",
       "    </tr>\n",
       "    <tr>\n",
       "      <th>7</th>\n",
       "      <td>Male</td>\n",
       "      <td>20</td>\n",
       "      <td>No</td>\n",
       "      <td>Yes</td>\n",
       "      <td>Yes</td>\n",
       "      <td>16</td>\n",
       "      <td>Higher</td>\n",
       "      <td>Higher</td>\n",
       "      <td>Earlier</td>\n",
       "      <td>Lower</td>\n",
       "      <td>Later</td>\n",
       "      <td>Higher</td>\n",
       "      <td>Earlier</td>\n",
       "      <td>Higher</td>\n",
       "      <td>Earlier</td>\n",
       "      <td>Question 4</td>\n",
       "    </tr>\n",
       "    <tr>\n",
       "      <th>8</th>\n",
       "      <td>Female</td>\n",
       "      <td>20</td>\n",
       "      <td>No</td>\n",
       "      <td>Yes</td>\n",
       "      <td>No</td>\n",
       "      <td>0</td>\n",
       "      <td>Higher</td>\n",
       "      <td>Higher</td>\n",
       "      <td>Later</td>\n",
       "      <td>Lower</td>\n",
       "      <td>Expected</td>\n",
       "      <td>Higher</td>\n",
       "      <td>Expected</td>\n",
       "      <td>Higher</td>\n",
       "      <td>Expected</td>\n",
       "      <td>Question 1</td>\n",
       "    </tr>\n",
       "    <tr>\n",
       "      <th>9</th>\n",
       "      <td>Female</td>\n",
       "      <td>20</td>\n",
       "      <td>No</td>\n",
       "      <td>Yes</td>\n",
       "      <td>Yes</td>\n",
       "      <td>10</td>\n",
       "      <td>Higher</td>\n",
       "      <td>Same</td>\n",
       "      <td>Later</td>\n",
       "      <td>Same</td>\n",
       "      <td>Earlier</td>\n",
       "      <td>Same</td>\n",
       "      <td>Earlier</td>\n",
       "      <td>Higher</td>\n",
       "      <td>Expected</td>\n",
       "      <td>Question 4</td>\n",
       "    </tr>\n",
       "    <tr>\n",
       "      <th>10</th>\n",
       "      <td>Female</td>\n",
       "      <td>20</td>\n",
       "      <td>No</td>\n",
       "      <td>Yes</td>\n",
       "      <td>Yes</td>\n",
       "      <td>10</td>\n",
       "      <td>Higher</td>\n",
       "      <td>Higher</td>\n",
       "      <td>Earlier</td>\n",
       "      <td>Lower</td>\n",
       "      <td>Earlier</td>\n",
       "      <td>Same</td>\n",
       "      <td>Expected</td>\n",
       "      <td>Higher</td>\n",
       "      <td>Earlier</td>\n",
       "      <td>Question 1</td>\n",
       "    </tr>\n",
       "    <tr>\n",
       "      <th>11</th>\n",
       "      <td>Male</td>\n",
       "      <td>18</td>\n",
       "      <td>No</td>\n",
       "      <td>Yes</td>\n",
       "      <td>Yes</td>\n",
       "      <td>5</td>\n",
       "      <td>Higher</td>\n",
       "      <td>Higher</td>\n",
       "      <td>Later</td>\n",
       "      <td>Lower</td>\n",
       "      <td>Expected</td>\n",
       "      <td>Higher</td>\n",
       "      <td>Expected</td>\n",
       "      <td>Higher</td>\n",
       "      <td>Expected</td>\n",
       "      <td>Question 4</td>\n",
       "    </tr>\n",
       "    <tr>\n",
       "      <th>12</th>\n",
       "      <td>Female</td>\n",
       "      <td>21</td>\n",
       "      <td>No</td>\n",
       "      <td>Yes</td>\n",
       "      <td>Yes</td>\n",
       "      <td>14</td>\n",
       "      <td>Higher</td>\n",
       "      <td>Same</td>\n",
       "      <td>Later</td>\n",
       "      <td>Lower</td>\n",
       "      <td>Later</td>\n",
       "      <td>Higher</td>\n",
       "      <td>Earlier</td>\n",
       "      <td>Higher</td>\n",
       "      <td>Expected</td>\n",
       "      <td>Question 3</td>\n",
       "    </tr>\n",
       "    <tr>\n",
       "      <th>13</th>\n",
       "      <td>Male</td>\n",
       "      <td>20</td>\n",
       "      <td>No</td>\n",
       "      <td>Yes</td>\n",
       "      <td>Yes</td>\n",
       "      <td>1</td>\n",
       "      <td>Higher</td>\n",
       "      <td>Higher</td>\n",
       "      <td>Earlier</td>\n",
       "      <td>Higher</td>\n",
       "      <td>Later</td>\n",
       "      <td>Same</td>\n",
       "      <td>Earlier</td>\n",
       "      <td>Lower</td>\n",
       "      <td>Expected</td>\n",
       "      <td>Question 1</td>\n",
       "    </tr>\n",
       "    <tr>\n",
       "      <th>14</th>\n",
       "      <td>Female</td>\n",
       "      <td>21</td>\n",
       "      <td>No</td>\n",
       "      <td>Yes</td>\n",
       "      <td>Yes</td>\n",
       "      <td>10</td>\n",
       "      <td>Higher</td>\n",
       "      <td>Higher</td>\n",
       "      <td>Later</td>\n",
       "      <td>Lower</td>\n",
       "      <td>Earlier</td>\n",
       "      <td>Higher</td>\n",
       "      <td>Expected</td>\n",
       "      <td>Higher</td>\n",
       "      <td>Expected</td>\n",
       "      <td>Question 1</td>\n",
       "    </tr>\n",
       "    <tr>\n",
       "      <th>15</th>\n",
       "      <td>Male</td>\n",
       "      <td>21</td>\n",
       "      <td>No</td>\n",
       "      <td>Yes</td>\n",
       "      <td>No</td>\n",
       "      <td>0</td>\n",
       "      <td>Higher</td>\n",
       "      <td>Higher</td>\n",
       "      <td>Expected</td>\n",
       "      <td>Lower</td>\n",
       "      <td>Earlier</td>\n",
       "      <td>Higher</td>\n",
       "      <td>Earlier</td>\n",
       "      <td>Higher</td>\n",
       "      <td>Later</td>\n",
       "      <td>Question 1</td>\n",
       "    </tr>\n",
       "  </tbody>\n",
       "</table>\n",
       "</div>"
      ],
      "text/plain": [
       "    Gender  Age Perfect_Pitch Listen_Music Played_Instruement  Years Control  \\\n",
       "0     Male   20            No          Yes                Yes      5  Higher   \n",
       "1   Female   20            No          Yes                 No      0  Higher   \n",
       "2     Male   20            No          Yes                Yes      8  Higher   \n",
       "4     Male   18            No          Yes                Yes      4  Higher   \n",
       "5   Female   20            No          Yes                Yes      3  Higher   \n",
       "6     Male   20            No          Yes                Yes     16  Higher   \n",
       "7     Male   20            No          Yes                Yes     16  Higher   \n",
       "8   Female   20            No          Yes                 No      0  Higher   \n",
       "9   Female   20            No          Yes                Yes     10  Higher   \n",
       "10  Female   20            No          Yes                Yes     10  Higher   \n",
       "11    Male   18            No          Yes                Yes      5  Higher   \n",
       "12  Female   21            No          Yes                Yes     14  Higher   \n",
       "13    Male   20            No          Yes                Yes      1  Higher   \n",
       "14  Female   21            No          Yes                Yes     10  Higher   \n",
       "15    Male   21            No          Yes                 No      0  Higher   \n",
       "\n",
       "   Sequence1 Sequence1_Timing Sequence2 Sequence2_Timing Sequence3  \\\n",
       "0       Same          Earlier     Lower         Expected    Higher   \n",
       "1     Higher            Later     Lower            Later    Higher   \n",
       "2     Higher         Expected     Lower          Earlier    Higher   \n",
       "4     Higher          Earlier    Higher            Later      Same   \n",
       "5     Higher         Expected     Lower          Earlier    Higher   \n",
       "6     Higher          Earlier     Lower            Later    Higher   \n",
       "7     Higher          Earlier     Lower            Later    Higher   \n",
       "8     Higher            Later     Lower         Expected    Higher   \n",
       "9       Same            Later      Same          Earlier      Same   \n",
       "10    Higher          Earlier     Lower          Earlier      Same   \n",
       "11    Higher            Later     Lower         Expected    Higher   \n",
       "12      Same            Later     Lower            Later    Higher   \n",
       "13    Higher          Earlier    Higher            Later      Same   \n",
       "14    Higher            Later     Lower          Earlier    Higher   \n",
       "15    Higher         Expected     Lower          Earlier    Higher   \n",
       "\n",
       "   Sequence3_Timing Sequence4 Sequence4_Timing     Easiest  \n",
       "0             Later     Lower            Later  Question 1  \n",
       "1          Expected    Higher            Later  Question 1  \n",
       "2           Earlier    Higher         Expected  Question 4  \n",
       "4           Earlier    Higher         Expected  Question 1  \n",
       "5          Expected    Higher         Expected  Question 1  \n",
       "6           Earlier    Higher          Earlier  Question 4  \n",
       "7           Earlier    Higher          Earlier  Question 4  \n",
       "8          Expected    Higher         Expected  Question 1  \n",
       "9           Earlier    Higher         Expected  Question 4  \n",
       "10         Expected    Higher          Earlier  Question 1  \n",
       "11         Expected    Higher         Expected  Question 4  \n",
       "12          Earlier    Higher         Expected  Question 3  \n",
       "13          Earlier     Lower         Expected  Question 1  \n",
       "14         Expected    Higher         Expected  Question 1  \n",
       "15          Earlier    Higher            Later  Question 1  "
      ]
     },
     "execution_count": 4,
     "metadata": {},
     "output_type": "execute_result"
    }
   ],
   "source": [
    "experimentB = experimentB[experimentB['Control'] == \"Higher\"]\n",
    "experimentB\n"
   ]
  },
  {
   "cell_type": "code",
   "execution_count": 5,
   "metadata": {},
   "outputs": [
    {
     "data": {
      "text/html": [
       "<div>\n",
       "<style scoped>\n",
       "    .dataframe tbody tr th:only-of-type {\n",
       "        vertical-align: middle;\n",
       "    }\n",
       "\n",
       "    .dataframe tbody tr th {\n",
       "        vertical-align: top;\n",
       "    }\n",
       "\n",
       "    .dataframe thead th {\n",
       "        text-align: right;\n",
       "    }\n",
       "</style>\n",
       "<table border=\"1\" class=\"dataframe\">\n",
       "  <thead>\n",
       "    <tr style=\"text-align: right;\">\n",
       "      <th></th>\n",
       "      <th>Gender</th>\n",
       "      <th>Age</th>\n",
       "      <th>Perfect_Pitch</th>\n",
       "      <th>Listen_Music</th>\n",
       "      <th>Played_Instruement</th>\n",
       "      <th>Years</th>\n",
       "      <th>Control</th>\n",
       "      <th>Sequence1</th>\n",
       "      <th>Sequence1_Timing</th>\n",
       "      <th>Sequence2</th>\n",
       "      <th>Sequence2_Timing</th>\n",
       "      <th>Sequence3</th>\n",
       "      <th>Sequence3_Timing</th>\n",
       "      <th>Sequence4</th>\n",
       "      <th>Sequence4_Timing</th>\n",
       "      <th>Easiest</th>\n",
       "    </tr>\n",
       "  </thead>\n",
       "  <tbody>\n",
       "    <tr>\n",
       "      <th>0</th>\n",
       "      <td>Male</td>\n",
       "      <td>20</td>\n",
       "      <td>No</td>\n",
       "      <td>Yes</td>\n",
       "      <td>Yes</td>\n",
       "      <td>5</td>\n",
       "      <td>Higher</td>\n",
       "      <td>Incorrect</td>\n",
       "      <td>Earlier</td>\n",
       "      <td>Correct</td>\n",
       "      <td>Expected</td>\n",
       "      <td>Correct</td>\n",
       "      <td>Later</td>\n",
       "      <td>Incorrect</td>\n",
       "      <td>Later</td>\n",
       "      <td>Question 1</td>\n",
       "    </tr>\n",
       "    <tr>\n",
       "      <th>1</th>\n",
       "      <td>Female</td>\n",
       "      <td>20</td>\n",
       "      <td>No</td>\n",
       "      <td>Yes</td>\n",
       "      <td>No</td>\n",
       "      <td>0</td>\n",
       "      <td>Higher</td>\n",
       "      <td>Correct</td>\n",
       "      <td>Later</td>\n",
       "      <td>Correct</td>\n",
       "      <td>Later</td>\n",
       "      <td>Correct</td>\n",
       "      <td>Expected</td>\n",
       "      <td>Correct</td>\n",
       "      <td>Later</td>\n",
       "      <td>Question 1</td>\n",
       "    </tr>\n",
       "    <tr>\n",
       "      <th>2</th>\n",
       "      <td>Male</td>\n",
       "      <td>20</td>\n",
       "      <td>No</td>\n",
       "      <td>Yes</td>\n",
       "      <td>Yes</td>\n",
       "      <td>8</td>\n",
       "      <td>Higher</td>\n",
       "      <td>Correct</td>\n",
       "      <td>Expected</td>\n",
       "      <td>Correct</td>\n",
       "      <td>Earlier</td>\n",
       "      <td>Correct</td>\n",
       "      <td>Earlier</td>\n",
       "      <td>Correct</td>\n",
       "      <td>Expected</td>\n",
       "      <td>Question 4</td>\n",
       "    </tr>\n",
       "    <tr>\n",
       "      <th>4</th>\n",
       "      <td>Male</td>\n",
       "      <td>18</td>\n",
       "      <td>No</td>\n",
       "      <td>Yes</td>\n",
       "      <td>Yes</td>\n",
       "      <td>4</td>\n",
       "      <td>Higher</td>\n",
       "      <td>Correct</td>\n",
       "      <td>Earlier</td>\n",
       "      <td>Incorrect</td>\n",
       "      <td>Later</td>\n",
       "      <td>Incorrect</td>\n",
       "      <td>Earlier</td>\n",
       "      <td>Correct</td>\n",
       "      <td>Expected</td>\n",
       "      <td>Question 1</td>\n",
       "    </tr>\n",
       "    <tr>\n",
       "      <th>5</th>\n",
       "      <td>Female</td>\n",
       "      <td>20</td>\n",
       "      <td>No</td>\n",
       "      <td>Yes</td>\n",
       "      <td>Yes</td>\n",
       "      <td>3</td>\n",
       "      <td>Higher</td>\n",
       "      <td>Correct</td>\n",
       "      <td>Expected</td>\n",
       "      <td>Correct</td>\n",
       "      <td>Earlier</td>\n",
       "      <td>Correct</td>\n",
       "      <td>Expected</td>\n",
       "      <td>Correct</td>\n",
       "      <td>Expected</td>\n",
       "      <td>Question 1</td>\n",
       "    </tr>\n",
       "    <tr>\n",
       "      <th>6</th>\n",
       "      <td>Male</td>\n",
       "      <td>20</td>\n",
       "      <td>No</td>\n",
       "      <td>Yes</td>\n",
       "      <td>Yes</td>\n",
       "      <td>16</td>\n",
       "      <td>Higher</td>\n",
       "      <td>Correct</td>\n",
       "      <td>Earlier</td>\n",
       "      <td>Correct</td>\n",
       "      <td>Later</td>\n",
       "      <td>Correct</td>\n",
       "      <td>Earlier</td>\n",
       "      <td>Correct</td>\n",
       "      <td>Earlier</td>\n",
       "      <td>Question 4</td>\n",
       "    </tr>\n",
       "    <tr>\n",
       "      <th>7</th>\n",
       "      <td>Male</td>\n",
       "      <td>20</td>\n",
       "      <td>No</td>\n",
       "      <td>Yes</td>\n",
       "      <td>Yes</td>\n",
       "      <td>16</td>\n",
       "      <td>Higher</td>\n",
       "      <td>Correct</td>\n",
       "      <td>Earlier</td>\n",
       "      <td>Correct</td>\n",
       "      <td>Later</td>\n",
       "      <td>Correct</td>\n",
       "      <td>Earlier</td>\n",
       "      <td>Correct</td>\n",
       "      <td>Earlier</td>\n",
       "      <td>Question 4</td>\n",
       "    </tr>\n",
       "    <tr>\n",
       "      <th>8</th>\n",
       "      <td>Female</td>\n",
       "      <td>20</td>\n",
       "      <td>No</td>\n",
       "      <td>Yes</td>\n",
       "      <td>No</td>\n",
       "      <td>0</td>\n",
       "      <td>Higher</td>\n",
       "      <td>Correct</td>\n",
       "      <td>Later</td>\n",
       "      <td>Correct</td>\n",
       "      <td>Expected</td>\n",
       "      <td>Correct</td>\n",
       "      <td>Expected</td>\n",
       "      <td>Correct</td>\n",
       "      <td>Expected</td>\n",
       "      <td>Question 1</td>\n",
       "    </tr>\n",
       "    <tr>\n",
       "      <th>9</th>\n",
       "      <td>Female</td>\n",
       "      <td>20</td>\n",
       "      <td>No</td>\n",
       "      <td>Yes</td>\n",
       "      <td>Yes</td>\n",
       "      <td>10</td>\n",
       "      <td>Higher</td>\n",
       "      <td>Incorrect</td>\n",
       "      <td>Later</td>\n",
       "      <td>Incorrect</td>\n",
       "      <td>Earlier</td>\n",
       "      <td>Incorrect</td>\n",
       "      <td>Earlier</td>\n",
       "      <td>Correct</td>\n",
       "      <td>Expected</td>\n",
       "      <td>Question 4</td>\n",
       "    </tr>\n",
       "    <tr>\n",
       "      <th>10</th>\n",
       "      <td>Female</td>\n",
       "      <td>20</td>\n",
       "      <td>No</td>\n",
       "      <td>Yes</td>\n",
       "      <td>Yes</td>\n",
       "      <td>10</td>\n",
       "      <td>Higher</td>\n",
       "      <td>Correct</td>\n",
       "      <td>Earlier</td>\n",
       "      <td>Correct</td>\n",
       "      <td>Earlier</td>\n",
       "      <td>Incorrect</td>\n",
       "      <td>Expected</td>\n",
       "      <td>Correct</td>\n",
       "      <td>Earlier</td>\n",
       "      <td>Question 1</td>\n",
       "    </tr>\n",
       "    <tr>\n",
       "      <th>11</th>\n",
       "      <td>Male</td>\n",
       "      <td>18</td>\n",
       "      <td>No</td>\n",
       "      <td>Yes</td>\n",
       "      <td>Yes</td>\n",
       "      <td>5</td>\n",
       "      <td>Higher</td>\n",
       "      <td>Correct</td>\n",
       "      <td>Later</td>\n",
       "      <td>Correct</td>\n",
       "      <td>Expected</td>\n",
       "      <td>Correct</td>\n",
       "      <td>Expected</td>\n",
       "      <td>Correct</td>\n",
       "      <td>Expected</td>\n",
       "      <td>Question 4</td>\n",
       "    </tr>\n",
       "    <tr>\n",
       "      <th>12</th>\n",
       "      <td>Female</td>\n",
       "      <td>21</td>\n",
       "      <td>No</td>\n",
       "      <td>Yes</td>\n",
       "      <td>Yes</td>\n",
       "      <td>14</td>\n",
       "      <td>Higher</td>\n",
       "      <td>Incorrect</td>\n",
       "      <td>Later</td>\n",
       "      <td>Correct</td>\n",
       "      <td>Later</td>\n",
       "      <td>Correct</td>\n",
       "      <td>Earlier</td>\n",
       "      <td>Correct</td>\n",
       "      <td>Expected</td>\n",
       "      <td>Question 3</td>\n",
       "    </tr>\n",
       "    <tr>\n",
       "      <th>13</th>\n",
       "      <td>Male</td>\n",
       "      <td>20</td>\n",
       "      <td>No</td>\n",
       "      <td>Yes</td>\n",
       "      <td>Yes</td>\n",
       "      <td>1</td>\n",
       "      <td>Higher</td>\n",
       "      <td>Correct</td>\n",
       "      <td>Earlier</td>\n",
       "      <td>Incorrect</td>\n",
       "      <td>Later</td>\n",
       "      <td>Incorrect</td>\n",
       "      <td>Earlier</td>\n",
       "      <td>Incorrect</td>\n",
       "      <td>Expected</td>\n",
       "      <td>Question 1</td>\n",
       "    </tr>\n",
       "    <tr>\n",
       "      <th>14</th>\n",
       "      <td>Female</td>\n",
       "      <td>21</td>\n",
       "      <td>No</td>\n",
       "      <td>Yes</td>\n",
       "      <td>Yes</td>\n",
       "      <td>10</td>\n",
       "      <td>Higher</td>\n",
       "      <td>Correct</td>\n",
       "      <td>Later</td>\n",
       "      <td>Correct</td>\n",
       "      <td>Earlier</td>\n",
       "      <td>Correct</td>\n",
       "      <td>Expected</td>\n",
       "      <td>Correct</td>\n",
       "      <td>Expected</td>\n",
       "      <td>Question 1</td>\n",
       "    </tr>\n",
       "    <tr>\n",
       "      <th>15</th>\n",
       "      <td>Male</td>\n",
       "      <td>21</td>\n",
       "      <td>No</td>\n",
       "      <td>Yes</td>\n",
       "      <td>No</td>\n",
       "      <td>0</td>\n",
       "      <td>Higher</td>\n",
       "      <td>Correct</td>\n",
       "      <td>Expected</td>\n",
       "      <td>Correct</td>\n",
       "      <td>Earlier</td>\n",
       "      <td>Correct</td>\n",
       "      <td>Earlier</td>\n",
       "      <td>Correct</td>\n",
       "      <td>Later</td>\n",
       "      <td>Question 1</td>\n",
       "    </tr>\n",
       "  </tbody>\n",
       "</table>\n",
       "</div>"
      ],
      "text/plain": [
       "    Gender  Age Perfect_Pitch Listen_Music Played_Instruement  Years Control  \\\n",
       "0     Male   20            No          Yes                Yes      5  Higher   \n",
       "1   Female   20            No          Yes                 No      0  Higher   \n",
       "2     Male   20            No          Yes                Yes      8  Higher   \n",
       "4     Male   18            No          Yes                Yes      4  Higher   \n",
       "5   Female   20            No          Yes                Yes      3  Higher   \n",
       "6     Male   20            No          Yes                Yes     16  Higher   \n",
       "7     Male   20            No          Yes                Yes     16  Higher   \n",
       "8   Female   20            No          Yes                 No      0  Higher   \n",
       "9   Female   20            No          Yes                Yes     10  Higher   \n",
       "10  Female   20            No          Yes                Yes     10  Higher   \n",
       "11    Male   18            No          Yes                Yes      5  Higher   \n",
       "12  Female   21            No          Yes                Yes     14  Higher   \n",
       "13    Male   20            No          Yes                Yes      1  Higher   \n",
       "14  Female   21            No          Yes                Yes     10  Higher   \n",
       "15    Male   21            No          Yes                 No      0  Higher   \n",
       "\n",
       "    Sequence1 Sequence1_Timing  Sequence2 Sequence2_Timing  Sequence3  \\\n",
       "0   Incorrect          Earlier    Correct         Expected    Correct   \n",
       "1     Correct            Later    Correct            Later    Correct   \n",
       "2     Correct         Expected    Correct          Earlier    Correct   \n",
       "4     Correct          Earlier  Incorrect            Later  Incorrect   \n",
       "5     Correct         Expected    Correct          Earlier    Correct   \n",
       "6     Correct          Earlier    Correct            Later    Correct   \n",
       "7     Correct          Earlier    Correct            Later    Correct   \n",
       "8     Correct            Later    Correct         Expected    Correct   \n",
       "9   Incorrect            Later  Incorrect          Earlier  Incorrect   \n",
       "10    Correct          Earlier    Correct          Earlier  Incorrect   \n",
       "11    Correct            Later    Correct         Expected    Correct   \n",
       "12  Incorrect            Later    Correct            Later    Correct   \n",
       "13    Correct          Earlier  Incorrect            Later  Incorrect   \n",
       "14    Correct            Later    Correct          Earlier    Correct   \n",
       "15    Correct         Expected    Correct          Earlier    Correct   \n",
       "\n",
       "   Sequence3_Timing  Sequence4 Sequence4_Timing     Easiest  \n",
       "0             Later  Incorrect            Later  Question 1  \n",
       "1          Expected    Correct            Later  Question 1  \n",
       "2           Earlier    Correct         Expected  Question 4  \n",
       "4           Earlier    Correct         Expected  Question 1  \n",
       "5          Expected    Correct         Expected  Question 1  \n",
       "6           Earlier    Correct          Earlier  Question 4  \n",
       "7           Earlier    Correct          Earlier  Question 4  \n",
       "8          Expected    Correct         Expected  Question 1  \n",
       "9           Earlier    Correct         Expected  Question 4  \n",
       "10         Expected    Correct          Earlier  Question 1  \n",
       "11         Expected    Correct         Expected  Question 4  \n",
       "12          Earlier    Correct         Expected  Question 3  \n",
       "13          Earlier  Incorrect         Expected  Question 1  \n",
       "14         Expected    Correct         Expected  Question 1  \n",
       "15          Earlier    Correct            Later  Question 1  "
      ]
     },
     "execution_count": 5,
     "metadata": {},
     "output_type": "execute_result"
    }
   ],
   "source": [
    "experimentB.loc[(experimentB.Sequence1 != 'Higher'),'Sequence1']='Incorrect'\n",
    "experimentB.loc[(experimentB.Sequence1 == 'Higher'),'Sequence1']='Correct'\n",
    "\n",
    "experimentB.loc[(experimentB.Sequence2 != 'Lower'),'Sequence2']='Incorrect'\n",
    "experimentB.loc[(experimentB.Sequence2 == 'Lower'),'Sequence2']='Correct'\n",
    "\n",
    "experimentB.loc[(experimentB.Sequence3 != 'Higher'),'Sequence3']='Incorrect'\n",
    "experimentB.loc[(experimentB.Sequence3 == 'Higher'),'Sequence3']='Correct'\n",
    "\n",
    "experimentB.loc[(experimentB.Sequence4 != 'Higher'),'Sequence4']='Incorrect'\n",
    "experimentB.loc[(experimentB.Sequence4 == 'Higher'),'Sequence4']='Correct'\n",
    "\n",
    "\n",
    "experimentB"
   ]
  },
  {
   "cell_type": "markdown",
   "metadata": {},
   "source": [
    "## Looking at the Big Picture"
   ]
  },
  {
   "cell_type": "markdown",
   "metadata": {},
   "source": [
    "### Demographical Snapshot"
   ]
  },
  {
   "cell_type": "markdown",
   "metadata": {},
   "source": [
    "Participants are first split up based on demographical data in order to surface up any abnormalities that would warrant future individual investigation. This also gives us a good picture/snapshot of the underlying distribution we are looking at. \n",
    "\n",
    "Note: Of all participants'response collected, gender data that were entered were either male or female. A non-binary option was avalible for participant to select, albeit no participants in our sample selected that option."
   ]
  },
  {
   "cell_type": "markdown",
   "metadata": {},
   "source": [
    "### Male"
   ]
  },
  {
   "cell_type": "code",
   "execution_count": 6,
   "metadata": {},
   "outputs": [],
   "source": [
    "experimentB_Male = experimentB[experimentB['Gender'] == \"Male\"]\n"
   ]
  },
  {
   "cell_type": "code",
   "execution_count": 7,
   "metadata": {},
   "outputs": [
    {
     "data": {
      "text/plain": [
       "8"
      ]
     },
     "execution_count": 7,
     "metadata": {},
     "output_type": "execute_result"
    }
   ],
   "source": [
    "#Number of Particpants\n",
    "experimentB_Male.shape[0]"
   ]
  },
  {
   "cell_type": "code",
   "execution_count": 8,
   "metadata": {},
   "outputs": [
    {
     "data": {
      "text/plain": [
       "Age    19.625\n",
       "dtype: float64"
      ]
     },
     "execution_count": 8,
     "metadata": {},
     "output_type": "execute_result"
    }
   ],
   "source": [
    "#Average Age\n",
    "experimentB_Male[['Age']].mean()"
   ]
  },
  {
   "cell_type": "code",
   "execution_count": 9,
   "metadata": {},
   "outputs": [
    {
     "data": {
      "text/plain": [
       "Years    6.875\n",
       "dtype: float64"
      ]
     },
     "execution_count": 9,
     "metadata": {},
     "output_type": "execute_result"
    }
   ],
   "source": [
    "#Average Years of Musical Training\n",
    "experimentB_Male[['Years']].mean()"
   ]
  },
  {
   "cell_type": "markdown",
   "metadata": {},
   "source": [
    "#### Female"
   ]
  },
  {
   "cell_type": "code",
   "execution_count": 10,
   "metadata": {},
   "outputs": [],
   "source": [
    "experimentB_Female = experimentB[experimentB['Gender'] == \"Female\"]"
   ]
  },
  {
   "cell_type": "code",
   "execution_count": 11,
   "metadata": {},
   "outputs": [
    {
     "data": {
      "text/plain": [
       "7"
      ]
     },
     "execution_count": 11,
     "metadata": {},
     "output_type": "execute_result"
    }
   ],
   "source": [
    "#Number of Particpants\n",
    "experimentB_Female.shape[0]"
   ]
  },
  {
   "cell_type": "code",
   "execution_count": 12,
   "metadata": {},
   "outputs": [
    {
     "data": {
      "text/plain": [
       "Age    20.285714\n",
       "dtype: float64"
      ]
     },
     "execution_count": 12,
     "metadata": {},
     "output_type": "execute_result"
    }
   ],
   "source": [
    "#Average Age\n",
    "experimentB_Female[['Age']].mean()"
   ]
  },
  {
   "cell_type": "code",
   "execution_count": 13,
   "metadata": {},
   "outputs": [
    {
     "data": {
      "text/plain": [
       "Years    6.714286\n",
       "dtype: float64"
      ]
     },
     "execution_count": 13,
     "metadata": {},
     "output_type": "execute_result"
    }
   ],
   "source": [
    "#Average Years of Musical Training\n",
    "experimentB_Female[['Years']].mean()"
   ]
  },
  {
   "cell_type": "markdown",
   "metadata": {},
   "source": [
    "### Music Background Snapshot"
   ]
  },
  {
   "cell_type": "markdown",
   "metadata": {},
   "source": [
    "#### Listened to Music?"
   ]
  },
  {
   "cell_type": "code",
   "execution_count": 14,
   "metadata": {},
   "outputs": [
    {
     "data": {
      "text/plain": [
       "1.0"
      ]
     },
     "execution_count": 14,
     "metadata": {},
     "output_type": "execute_result"
    }
   ],
   "source": [
    "#Percentage of Overall Sample that Listened to Music Regularly\n",
    "experimentB[experimentB['Listen_Music'] == \"Yes\"].shape[0]/experimentB.shape[0]"
   ]
  },
  {
   "cell_type": "markdown",
   "metadata": {},
   "source": [
    "#### Played an instrument?"
   ]
  },
  {
   "cell_type": "code",
   "execution_count": 15,
   "metadata": {},
   "outputs": [
    {
     "data": {
      "text/plain": [
       "0.8"
      ]
     },
     "execution_count": 15,
     "metadata": {},
     "output_type": "execute_result"
    }
   ],
   "source": [
    "#Percentage of Overall Sample that Listened to Music Regularly\n",
    "experimentB[experimentB['Played_Instruement'] == \"Yes\"].shape[0]/experimentB.shape[0]"
   ]
  },
  {
   "cell_type": "markdown",
   "metadata": {},
   "source": [
    "#### Average Years of Musical training (all samples)"
   ]
  },
  {
   "cell_type": "code",
   "execution_count": 16,
   "metadata": {},
   "outputs": [
    {
     "data": {
      "text/plain": [
       "Years    6.8\n",
       "dtype: float64"
      ]
     },
     "execution_count": 16,
     "metadata": {},
     "output_type": "execute_result"
    }
   ],
   "source": [
    "experimentB[[\"Years\"]].mean()"
   ]
  },
  {
   "cell_type": "markdown",
   "metadata": {},
   "source": [
    "### Correctness Snapshot"
   ]
  },
  {
   "cell_type": "markdown",
   "metadata": {},
   "source": [
    "The proportion of correct versus incorrect responses are now looked at for each musical sequance that was played. A graph depicting these results are displayed.\n",
    "\n",
    "Participants were also asked if they felt if the comparison tone (last note) arrived earlier, later, or as expected when compared to the rest of the sequance. Here, we also look at how participants responded."
   ]
  },
  {
   "cell_type": "markdown",
   "metadata": {},
   "source": [
    "#### Sequence 1 (Normal Metric Position): 80% Correct\n",
    "F# F D E# G F# D# E F# G (G HIGHER than F#)"
   ]
  },
  {
   "cell_type": "code",
   "execution_count": 17,
   "metadata": {},
   "outputs": [
    {
     "data": {
      "text/plain": [
       "80.0"
      ]
     },
     "execution_count": 17,
     "metadata": {},
     "output_type": "execute_result"
    }
   ],
   "source": [
    "sequence1_all = experimentB[experimentB['Sequence1'] == \"Correct\"].shape[0]/experimentB.shape[0] * 100\n",
    "sequence1_all"
   ]
  },
  {
   "cell_type": "code",
   "execution_count": 18,
   "metadata": {},
   "outputs": [
    {
     "data": {
      "text/plain": [
       "20.0"
      ]
     },
     "execution_count": 18,
     "metadata": {},
     "output_type": "execute_result"
    }
   ],
   "source": [
    "# Timing: Correct Response\n",
    "sequence1_all_timing_expected = experimentB[experimentB['Sequence1_Timing'] == \"Expected\"].shape[0]/experimentB.shape[0] * 100\n",
    "sequence1_all_timing_expected"
   ]
  },
  {
   "cell_type": "code",
   "execution_count": 19,
   "metadata": {},
   "outputs": [
    {
     "data": {
      "text/plain": [
       "40.0"
      ]
     },
     "execution_count": 19,
     "metadata": {},
     "output_type": "execute_result"
    }
   ],
   "source": [
    "sequence1_all_timing_earlier = experimentB[experimentB['Sequence1_Timing'] == \"Earlier\"].shape[0]/experimentB.shape[0] * 100\n",
    "sequence1_all_timing_earlier"
   ]
  },
  {
   "cell_type": "code",
   "execution_count": 20,
   "metadata": {},
   "outputs": [
    {
     "data": {
      "text/plain": [
       "40.0"
      ]
     },
     "execution_count": 20,
     "metadata": {},
     "output_type": "execute_result"
    }
   ],
   "source": [
    "sequence1_all_timing_later = experimentB[experimentB['Sequence1_Timing'] == \"Later\"].shape[0]/experimentB.shape[0] * 100\n",
    "sequence1_all_timing_later"
   ]
  },
  {
   "cell_type": "markdown",
   "metadata": {},
   "source": [
    "#### Sequence 2 (Very Early):\n",
    "G F D E# G F# D# E G F# (F# is LOWER than G)"
   ]
  },
  {
   "cell_type": "code",
   "execution_count": 21,
   "metadata": {},
   "outputs": [
    {
     "data": {
      "text/plain": [
       "80.0"
      ]
     },
     "execution_count": 21,
     "metadata": {},
     "output_type": "execute_result"
    }
   ],
   "source": [
    "sequence2_all = experimentB[experimentB['Sequence2'] == \"Correct\"].shape[0]/experimentB.shape[0] * 100\n",
    "sequence2_all"
   ]
  },
  {
   "cell_type": "code",
   "execution_count": 22,
   "metadata": {},
   "outputs": [
    {
     "data": {
      "text/plain": [
       "20.0"
      ]
     },
     "execution_count": 22,
     "metadata": {},
     "output_type": "execute_result"
    }
   ],
   "source": [
    "sequence2_all_timing_expected = experimentB[experimentB['Sequence2_Timing'] == \"Expected\"].shape[0]/experimentB.shape[0] * 100\n",
    "sequence2_all_timing_expected"
   ]
  },
  {
   "cell_type": "code",
   "execution_count": 23,
   "metadata": {},
   "outputs": [
    {
     "data": {
      "text/plain": [
       "40.0"
      ]
     },
     "execution_count": 23,
     "metadata": {},
     "output_type": "execute_result"
    }
   ],
   "source": [
    "# Timing: Correct Response\n",
    "sequence2_all_timing_earlier = experimentB[experimentB['Sequence2_Timing'] == \"Earlier\"].shape[0]/experimentB.shape[0] * 100\n",
    "sequence2_all_timing_earlier"
   ]
  },
  {
   "cell_type": "code",
   "execution_count": 24,
   "metadata": {},
   "outputs": [
    {
     "data": {
      "text/plain": [
       "40.0"
      ]
     },
     "execution_count": 24,
     "metadata": {},
     "output_type": "execute_result"
    }
   ],
   "source": [
    "sequence2_all_timing_later = experimentB[experimentB['Sequence2_Timing'] == \"Later\"].shape[0]/experimentB.shape[0] * 100\n",
    "sequence2_all_timing_later"
   ]
  },
  {
   "cell_type": "markdown",
   "metadata": {},
   "source": [
    "#### Sequence 3 (Irregular): \n",
    "E F D E# G F# D# E F (F HIGHER than E)"
   ]
  },
  {
   "cell_type": "code",
   "execution_count": 25,
   "metadata": {},
   "outputs": [
    {
     "data": {
      "text/plain": [
       "73.33333333333333"
      ]
     },
     "execution_count": 25,
     "metadata": {},
     "output_type": "execute_result"
    }
   ],
   "source": [
    "sequence3_all = experimentB[experimentB['Sequence3'] == \"Correct\"].shape[0]/experimentB.shape[0] * 100\n",
    "sequence3_all"
   ]
  },
  {
   "cell_type": "markdown",
   "metadata": {},
   "source": [
    "#### Sequence 4 (Very Late):\n",
    "F# E D E# G F D# E F# G (G HIGHER than F#)"
   ]
  },
  {
   "cell_type": "code",
   "execution_count": 26,
   "metadata": {},
   "outputs": [
    {
     "data": {
      "text/plain": [
       "86.66666666666667"
      ]
     },
     "execution_count": 26,
     "metadata": {},
     "output_type": "execute_result"
    }
   ],
   "source": [
    "sequence4_all = experimentB[experimentB['Sequence4'] == \"Correct\"].shape[0]/experimentB.shape[0] * 100\n",
    "sequence4_all"
   ]
  },
  {
   "cell_type": "code",
   "execution_count": 27,
   "metadata": {},
   "outputs": [
    {
     "data": {
      "text/plain": [
       "60.0"
      ]
     },
     "execution_count": 27,
     "metadata": {},
     "output_type": "execute_result"
    }
   ],
   "source": [
    "sequence4_all_timing_expected = experimentB[experimentB['Sequence4_Timing'] == \"Expected\"].shape[0]/experimentB.shape[0] * 100\n",
    "sequence4_all_timing_expected"
   ]
  },
  {
   "cell_type": "code",
   "execution_count": 28,
   "metadata": {},
   "outputs": [
    {
     "data": {
      "text/plain": [
       "20.0"
      ]
     },
     "execution_count": 28,
     "metadata": {},
     "output_type": "execute_result"
    }
   ],
   "source": [
    "sequence4_all_timing_earlier = experimentB[experimentB['Sequence4_Timing'] == \"Earlier\"].shape[0]/experimentB.shape[0] * 100\n",
    "sequence4_all_timing_earlier"
   ]
  },
  {
   "cell_type": "code",
   "execution_count": 29,
   "metadata": {},
   "outputs": [
    {
     "data": {
      "text/plain": [
       "20.0"
      ]
     },
     "execution_count": 29,
     "metadata": {},
     "output_type": "execute_result"
    }
   ],
   "source": [
    "# Timing: Correct Response\n",
    "sequence4_all_timing_later = experimentB[experimentB['Sequence4_Timing'] == \"Later\"].shape[0]/experimentB.shape[0] * 100\n",
    "sequence4_all_timing_later"
   ]
  },
  {
   "cell_type": "code",
   "execution_count": 30,
   "metadata": {},
   "outputs": [
    {
     "data": {
      "image/png": "[encoded data removed]",
      "text/plain": [
       "<Figure size 432x288 with 1 Axes>"
      ]
     },
     "metadata": {
      "needs_background": "light"
     },
     "output_type": "display_data"
    }
   ],
   "source": [
    "experimentB_all_bar = pd.DataFrame({'Timing':['Very Early','On-Time','Verly Late','Irregular'], 'Percentage Correct':[sequence2_all,sequence1_all,sequence4_all,sequence3_all]})\n",
    "ax = experimentB_all_bar.plot.bar(x='Timing', y='Percentage Correct', rot=0)\n",
    "\n"
   ]
  },
  {
   "cell_type": "markdown",
   "metadata": {},
   "source": [
    "# Part 2 Data Analysis:"
   ]
  },
  {
   "cell_type": "markdown",
   "metadata": {},
   "source": [
    "## Hypothesis (A/B) Testing:\n",
    "Null: The timing of the comparison tone (the last note) relatively to the distracting tones (notes in the middle)\n",
    "does not affect a participants performance in determining if the comparison tone is higher/lower/same in pitch\n",
    "than than the standard tone."
   ]
  },
  {
   "cell_type": "code",
   "execution_count": 31,
   "metadata": {},
   "outputs": [],
   "source": [
    "test_statistics = []\n",
    "sampling_array = np.append(experimentB[\"Sequence1\"].array,experimentB[\"Sequence2\"].array)\n",
    "sampling_array = np.append(sampling_array,experimentB[\"Sequence3\"].array)\n",
    "sampling_array = np.append(sampling_array,experimentB[\"Sequence4\"].array)\n",
    "\n",
    "\n",
    "\n"
   ]
  },
  {
   "cell_type": "code",
   "execution_count": 32,
   "metadata": {},
   "outputs": [],
   "source": [
    "def observerd_statistic_cacl(seq1,seq2=None,general=True):\n",
    "    if general == True:\n",
    "        sequance_test = experimentB[seq1].values\n",
    "        a = np.count_nonzero(sampling_array == \"Correct\")/len(sampling_array)\n",
    "        b = np.count_nonzero(sequance_test == \"Correct\")/len(sequance_test)\n",
    "        return b - a\n",
    "    else:\n",
    "        sequance_test_1 = experimentB[seq1].values\n",
    "        sequance_test_2 = experimentB[seq2].values\n",
    "        a = np.count_nonzero(sequance_test_1 ==\"Correct\")/len(sequance_test_1)\n",
    "        b = np.count_nonzero(sequance_test_2==\"Correct\")/len(sequance_test_2)\n",
    "        return b-a\n",
    "    "
   ]
  },
  {
   "cell_type": "code",
   "execution_count": 33,
   "metadata": {},
   "outputs": [],
   "source": [
    "def a_b_test(seq):\n",
    "    ##Calculates the test statistic between a sequance and general distribution.\n",
    "    sequance_test = experimentB[seq].sample(n=experimentB.shape[0],replace=True).values\n",
    "    general_test = np.random.choice(sampling_array,size=experimentB.shape[0],replace=True)\n",
    "\n",
    "    #Pecent correct in specific sequanfe distribution\n",
    "    unique, counts = np.unique(sequance_test, return_counts=True)\n",
    "    result = dict(zip(unique, counts))\n",
    "    try:\n",
    "        percent_correct_sequance = result['Correct']/len(sequance_test)\n",
    "    except:\n",
    "        percent_correct_sequance = 0\n",
    "\n",
    "    #Percent correct in overall distribution    \n",
    "    unique1, counts1 = np.unique(general_test, return_counts=True)\n",
    "    result1 = dict(zip(unique1, counts1))\n",
    "    try:\n",
    "        percent_correct_general = result1['Correct']/len(general_test)\n",
    "    except:\n",
    "        percent_correct_general = 0\n",
    "\n",
    "    \n",
    "    #Calculate test statistic (percent correct sequance - percent correct general distribution)\n",
    "    test_statistic = percent_correct_sequance-percent_correct_general\n",
    "   \n",
    "    return np.array([test_statistic])\n",
    "    \n"
   ]
  },
  {
   "cell_type": "code",
   "execution_count": 34,
   "metadata": {},
   "outputs": [],
   "source": [
    "def a_b_test_special(seq1,seq2):\n",
    "    ##Calculates the test statistic between two sequances.\n",
    "    ##Statistic is seq2_correct - seq1_correct\n",
    "    sequance1_test = experimentB[seq1].sample(n=experimentB.shape[0],replace=True).values\n",
    "    sequance2_test = experimentB[seq2].sample(n=experimentB.shape[0],replace=True).values\n",
    "\n",
    "    #Pecent correct in sequance1 distribution\n",
    "    unique, counts = np.unique(sequance1_test, return_counts=True)\n",
    "    result = dict(zip(unique, counts))\n",
    "    try:\n",
    "        percent_correct_sequance1 = result['Correct']/len(sequance1_test)\n",
    "    except:\n",
    "        percent_correct_sequance1 = 0\n",
    "        \n",
    "    \n",
    "    #Pecent correct in sequance2 distribution\n",
    "    unique, counts = np.unique(sequance2_test, return_counts=True)\n",
    "    result = dict(zip(unique, counts))\n",
    "    try:\n",
    "        percent_correct_sequance2 = result['Correct']/len(sequance2_test)\n",
    "    except:\n",
    "        percent_correct_sequance2 = 0\n",
    "        \n",
    "\n",
    "    #Calculate test statistic (percent correct sequance1 - percent correct sequance2)\n",
    "    test_statistic = percent_correct_sequance2-percent_correct_sequance1\n",
    "   \n",
    "    return np.array([test_statistic])"
   ]
  },
  {
   "cell_type": "markdown",
   "metadata": {},
   "source": [
    "#### Sequence 1 (Normal Metric Position): 80% Correct\n",
    "F# F D E# G F# D# E F# G (G HIGHER than F#)"
   ]
  },
  {
   "cell_type": "code",
   "execution_count": 35,
   "metadata": {},
   "outputs": [
    {
     "name": "stdout",
     "output_type": "stream",
     "text": [
      "0.0\n"
     ]
    },
    {
     "data": {
      "text/plain": [
       "0.593"
      ]
     },
     "execution_count": 35,
     "metadata": {},
     "output_type": "execute_result"
    }
   ],
   "source": [
    "observed_statistic = observerd_statistic_cacl(\"Sequence1\")\n",
    "print(observed_statistic)\n",
    "test_statistics = np.array([])\n",
    "for i in range(0,1000):\n",
    "    test_statistics = np.concatenate((test_statistics,a_b_test(\"Sequence1\")))\n",
    "    \n",
    "p_value = np.count_nonzero(test_statistics <= observed_statistic)/1000\n",
    "p_value"
   ]
  },
  {
   "cell_type": "markdown",
   "metadata": {},
   "source": [
    "#### Sequence 2 (Very Early):\n",
    "G F D E# G F# D# E G F# (F# is LOWER than G)"
   ]
  },
  {
   "cell_type": "code",
   "execution_count": 36,
   "metadata": {},
   "outputs": [
    {
     "name": "stdout",
     "output_type": "stream",
     "text": [
      "0.0\n"
     ]
    },
    {
     "data": {
      "text/plain": [
       "0.586"
      ]
     },
     "execution_count": 36,
     "metadata": {},
     "output_type": "execute_result"
    }
   ],
   "source": [
    "observed_statistic = observerd_statistic_cacl(\"Sequence2\")\n",
    "print(observed_statistic)\n",
    "test_statistics = np.array([])\n",
    "for i in range(0,1000):\n",
    "    test_statistics = np.concatenate((test_statistics,a_b_test(\"Sequence2\")))\n",
    "    \n",
    "p_value = np.count_nonzero(test_statistics <= observed_statistic)/1000\n",
    "p_value"
   ]
  },
  {
   "cell_type": "markdown",
   "metadata": {},
   "source": [
    "#### Sequence 3 (Irregular): \n",
    "E F D E# G F# D# E F (F HIGHER than E)"
   ]
  },
  {
   "cell_type": "code",
   "execution_count": 37,
   "metadata": {},
   "outputs": [
    {
     "name": "stdout",
     "output_type": "stream",
     "text": [
      "-0.06666666666666676\n"
     ]
    },
    {
     "data": {
      "text/plain": [
       "0.485"
      ]
     },
     "execution_count": 37,
     "metadata": {},
     "output_type": "execute_result"
    }
   ],
   "source": [
    "observed_statistic = observerd_statistic_cacl(\"Sequence3\")\n",
    "print(observed_statistic)\n",
    "test_statistics = np.array([])\n",
    "for i in range(0,1000):\n",
    "    test_statistics = np.concatenate((test_statistics,a_b_test(\"Sequence3\")))\n",
    "    \n",
    "p_value = np.count_nonzero(test_statistics <= observed_statistic)/1000\n",
    "p_value"
   ]
  },
  {
   "cell_type": "markdown",
   "metadata": {},
   "source": [
    "#### Sequence 4 (Very Late):\n",
    "F# E D E# G F D# E F# G (G HIGHER than F#)"
   ]
  },
  {
   "cell_type": "code",
   "execution_count": 38,
   "metadata": {},
   "outputs": [
    {
     "name": "stdout",
     "output_type": "stream",
     "text": [
      "0.06666666666666665\n"
     ]
    },
    {
     "data": {
      "text/plain": [
       "0.574"
      ]
     },
     "execution_count": 38,
     "metadata": {},
     "output_type": "execute_result"
    }
   ],
   "source": [
    "observed_statistic = observerd_statistic_cacl(\"Sequence4\")\n",
    "print(observed_statistic)\n",
    "test_statistics = np.array([])\n",
    "for i in range(0,1000):\n",
    "    test_statistics = np.concatenate((test_statistics,a_b_test(\"Sequence4\")))\n",
    "    \n",
    "p_value = np.count_nonzero(test_statistics <= observed_statistic)/1000\n",
    "p_value"
   ]
  },
  {
   "cell_type": "markdown",
   "metadata": {},
   "source": [
    "## Further Analysis:\n",
    "Here we look further at more closely if whether there is correlation between whether a participant correctly determined the arrival sequance of the note (earlier, later, or expected) and if they anwsered correctly. That is, I look at the number of people who anwser both the timing and pitch question correctly and compare it with the number of people who only anwsered the pitch question correctly."
   ]
  },
  {
   "cell_type": "code",
   "execution_count": 39,
   "metadata": {},
   "outputs": [],
   "source": [
    "correct_timing = experimentB[experimentB['Sequence1_Timing'] == \"Expected\"]\n",
    "seq = \"Sequence1\""
   ]
  },
  {
   "cell_type": "code",
   "execution_count": 40,
   "metadata": {},
   "outputs": [],
   "source": [
    "def a_b_test_performance(correct_timing,seq):\n",
    "    sequance_test = correct_timing[seq].sample(n=correct_timing.shape[0],replace=True).values\n",
    "    general_test = experimentB[seq].sample(n=experimentB.shape[0],replace=True).values\n",
    "\n",
    "    #Pecent correct in specific sequanfe distribution\n",
    "    unique, counts = np.unique(sequance_test, return_counts=True)\n",
    "    result = dict(zip(unique, counts))\n",
    "    try:\n",
    "        percent_correct_sequance = result['Correct']/len(sequance_test)\n",
    "    except:\n",
    "        percent_correct_sequance = 0\n",
    "\n",
    "    #Percent correct in overall distribution    \n",
    "    unique1, counts1 = np.unique(general_test, return_counts=True)\n",
    "    result1 = dict(zip(unique1, counts1))\n",
    "    try:\n",
    "        percent_correct_general = result1['Correct']/len(general_test)\n",
    "    except:\n",
    "        percent_correct_general = 0\n",
    "\n",
    "\n",
    "    #Calculate test statistic (percent correct sequance - percent correct general distribution)\n",
    "    test_statistic = percent_correct_sequance-percent_correct_general\n",
    "\n",
    "    return np.array([test_statistic])\n"
   ]
  },
  {
   "cell_type": "markdown",
   "metadata": {},
   "source": [
    "#### Sequence 1 (Normal Metric Position)\n"
   ]
  },
  {
   "cell_type": "code",
   "execution_count": 41,
   "metadata": {},
   "outputs": [
    {
     "data": {
      "text/plain": [
       "100.0"
      ]
     },
     "execution_count": 41,
     "metadata": {},
     "output_type": "execute_result"
    }
   ],
   "source": [
    "seq1_correct_timing = experimentB[experimentB['Sequence1_Timing'] == \"Expected\"]\n",
    "seq1_correct_timing[seq1_correct_timing[\"Sequence1\"] == \"Correct\"].shape[0]/seq1_correct_timing.shape[0]*100"
   ]
  },
  {
   "cell_type": "code",
   "execution_count": 42,
   "metadata": {},
   "outputs": [
    {
     "data": {
      "text/plain": [
       "0.18"
      ]
     },
     "execution_count": 42,
     "metadata": {},
     "output_type": "execute_result"
    }
   ],
   "source": [
    "a = seq1_correct_timing[seq1_correct_timing[\"Sequence1\"] == \"Correct\"].shape[0]/seq1_correct_timing.shape[0]\n",
    "b = experimentB[experimentB['Sequence1'] == \"Correct\"].shape[0]/experimentB.shape[0]\n",
    "observed = a - b\n",
    "\n",
    "test_statistics = np.array([])\n",
    "for i in range(0,1000):\n",
    "    test_statistics = np.concatenate((test_statistics,a_b_test_performance(seq1_correct_timing,\"Sequence1\")))\n",
    "    \n",
    "p_value = np.count_nonzero(test_statistics <= observed_statistic)/1000\n",
    "p_value\n"
   ]
  },
  {
   "cell_type": "markdown",
   "metadata": {},
   "source": [
    "#### Sequence 2 (Very Early)\n"
   ]
  },
  {
   "cell_type": "code",
   "execution_count": 43,
   "metadata": {},
   "outputs": [
    {
     "data": {
      "text/plain": [
       "83.33333333333334"
      ]
     },
     "execution_count": 43,
     "metadata": {},
     "output_type": "execute_result"
    }
   ],
   "source": [
    "seq2_correct_timing = experimentB[experimentB['Sequence2_Timing'] == \"Earlier\"]\n",
    "seq2_correct_timing[seq2_correct_timing[\"Sequence2\"] == \"Correct\"].shape[0]/seq2_correct_timing.shape[0]*100\n",
    "\n",
    "\n"
   ]
  },
  {
   "cell_type": "code",
   "execution_count": 44,
   "metadata": {},
   "outputs": [
    {
     "data": {
      "text/plain": [
       "0.567"
      ]
     },
     "execution_count": 44,
     "metadata": {},
     "output_type": "execute_result"
    }
   ],
   "source": [
    "a = seq2_correct_timing[seq2_correct_timing[\"Sequence2\"] == \"Correct\"].shape[0]/seq2_correct_timing.shape[0]\n",
    "b = experimentB[experimentB['Sequence2'] == \"Correct\"].shape[0]/experimentB.shape[0]\n",
    "observed = a - b\n",
    "\n",
    "test_statistics = np.array([])\n",
    "for i in range(0,1000):\n",
    "    test_statistics = np.concatenate((test_statistics,a_b_test_performance(seq2_correct_timing,\"Sequence2\")))\n",
    "    \n",
    "p_value = np.count_nonzero(test_statistics <= observed_statistic)/1000\n",
    "p_value\n"
   ]
  },
  {
   "cell_type": "markdown",
   "metadata": {},
   "source": [
    "#### Sequence 4 (Very Late)\n"
   ]
  },
  {
   "cell_type": "code",
   "execution_count": 45,
   "metadata": {},
   "outputs": [
    {
     "data": {
      "text/plain": [
       "100.0"
      ]
     },
     "execution_count": 45,
     "metadata": {},
     "output_type": "execute_result"
    }
   ],
   "source": [
    "seq4_correct_timing = experimentB[experimentB['Sequence4_Timing'] == \"Later\"]\n",
    "seq4_correct_timing[seq4_correct_timing[\"Sequence2\"] == \"Correct\"].shape[0]/seq4_correct_timing.shape[0]*100\n",
    "\n"
   ]
  },
  {
   "cell_type": "code",
   "execution_count": 46,
   "metadata": {},
   "outputs": [
    {
     "data": {
      "text/plain": [
       "0.807"
      ]
     },
     "execution_count": 46,
     "metadata": {},
     "output_type": "execute_result"
    }
   ],
   "source": [
    "a = seq4_correct_timing[seq4_correct_timing[\"Sequence4\"] == \"Correct\"].shape[0]/seq4_correct_timing.shape[0]\n",
    "b = experimentB[experimentB['Sequence4'] == \"Correct\"].shape[0]/experimentB.shape[0]\n",
    "observed = a - b\n",
    "\n",
    "test_statistics = np.array([])\n",
    "for i in range(0,1000):\n",
    "    test_statistics = np.concatenate((test_statistics,a_b_test_performance(seq4_correct_timing,\"Sequence4\")))\n",
    "    \n",
    "p_value = np.count_nonzero(test_statistics <= observed_statistic)/1000\n",
    "p_value\n"
   ]
  },
  {
   "cell_type": "markdown",
   "metadata": {},
   "source": [
    "#### Easiest Sequence:\n",
    "We can also see which sequence participants ranked as easiest. A graph is shown below"
   ]
  },
  {
   "cell_type": "code",
   "execution_count": 47,
   "metadata": {},
   "outputs": [],
   "source": [
    "s1 = experimentB[experimentB['Easiest'] == \"Question 1\"].shape[0]/len(experimentB) * 100\n",
    "s2 = experimentB[experimentB['Easiest'] == \"Question 2\"].shape[0]/len(experimentB) * 100\n",
    "s3 = experimentB[experimentB['Easiest'] == \"Question 3\"].shape[0]/len(experimentB) * 100\n",
    "s4 = experimentB[experimentB['Easiest'] == \"Question 4\"].shape[0]/len(experimentB) * 100\n"
   ]
  },
  {
   "cell_type": "code",
   "execution_count": 48,
   "metadata": {},
   "outputs": [
    {
     "data": {
      "image/png": "[encoded data removed]",
      "text/plain": [
       "<Figure size 432x288 with 1 Axes>"
      ]
     },
     "metadata": {
      "needs_background": "light"
     },
     "output_type": "display_data"
    }
   ],
   "source": [
    "easiest_bar = pd.DataFrame({'Timing':[\"Very Early\",'On-Time','Verly Late','Irregular'], '% Easiest':[s2,s1,s4,s3]})\n",
    "ax = easiest_bar.plot.bar(x='Timing', y='% Easiest', rot=0)\n",
    "\n"
   ]
  },
  {
   "cell_type": "code",
   "execution_count": null,
   "metadata": {},
   "outputs": [],
   "source": []
  }
 ],
 "metadata": {
  "kernelspec": {
   "display_name": "Python 3",
   "language": "python",
   "name": "python3"
  },
  "language_info": {
   "codemirror_mode": {
    "name": "ipython",
    "version": 3
   },
   "file_extension": ".py",
   "mimetype": "text/x-python",
   "name": "python",
   "nbconvert_exporter": "python",
   "pygments_lexer": "ipython3",
   "version": "3.8.3"
  }
 },
 "nbformat": 4,
 "nbformat_minor": 4
}
